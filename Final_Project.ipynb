{
 "cells": [
  {
   "cell_type": "code",
   "execution_count": 38,
   "metadata": {},
   "outputs": [
    {
     "name": "stdout",
     "output_type": "stream",
     "text": [
      "The sql extension is already loaded. To reload it, use:\n",
      "  %reload_ext sql\n"
     ]
    }
   ],
   "source": [
    "%load_ext sql"
   ]
  },
  {
   "cell_type": "code",
   "execution_count": 36,
   "metadata": {},
   "outputs": [],
   "source": [
    "import pandas as pd\n",
    "import sqlite3 as sql\n",
    "\n",
    "conn = sql.connect('database.db')\n",
    "path = 'term-project-sql/SourceData/'\n",
    "course = '/courses.csv'\n",
    "meeting = '/course_meetings.csv'\n",
    "\n",
    "#list with semesters to loop path\n",
    "semesters = ['Fall2014','Winter2015','Spring2015','Summer2015','Fall2015','Winter2016',\n",
    "             'Spring2016','Summer2016','Fall2016','Winter2017','Spring2017','SpringBreak2017',\n",
    "             'Summer2017','Fall2017','Winter2018','Spring2018','Summer2018','Fall2018',\n",
    "             'Spring2019'\n",
    "            ]\n"
   ]
  },
  {
   "cell_type": "code",
   "execution_count": 37,
   "metadata": {},
   "outputs": [
    {
     "name": "stdout",
     "output_type": "stream",
     "text": [
      "Process Complete\n"
     ]
    }
   ],
   "source": [
    "# Append both catalog csv files\n",
    "df_catalog_2017_2018 = pd.read_csv(path + 'Catalogs/CourseCatalog2017_2018.csv')\n",
    "df_catalog_2018_2019 = pd.read_csv(path + 'Catalogs/CourseCatalog2018_2019.csv')\n",
    "df_catalogs = df_catalog_2017_2018.append(df_catalog_2018_2019)\n",
    "\n",
    "#Start loop --> pull paths from cell above and swap \"semester\" with each value on the \"semesters\" list, appending the data to a single df each time around.\n",
    "for semester in semesters:\n",
    "    temp_course = pd.read_csv(path + semester + course)\n",
    "    df_course = df_course.append(temp_course)\n",
    "    \n",
    "    temp_meeting = pd.read_csv(path + semester + meeting)\n",
    "    df_meeting = df_meeting.append(temp_meeting)\n",
    "    \n",
    "#Send consolidated dataframes to csv --> next step is to merge these (and catalog as well) in order to mass dump into database\n",
    "#After joining the dataframes, clean up the data prior to dumping into database\n",
    "\n",
    "df_course.to_csv('term-project-sql/Data_Dump_course.csv')\n",
    "df_meeting.to_csv('term-project-sql/Data_Dump_meeting.csv')\n",
    "\n",
    "#reset df to blank after exporting Data_Dump.csv\n",
    "df_course = pd.DataFrame()\n",
    "df_meeting = pd.DataFrame()\n",
    "\n",
    "print('Process Complete')\n",
    "\n"
   ]
  },
  {
   "cell_type": "code",
   "execution_count": null,
   "metadata": {},
   "outputs": [],
   "source": []
  }
 ],
 "metadata": {
  "kernelspec": {
   "display_name": "Python 3",
   "language": "python",
   "name": "python3"
  },
  "language_info": {
   "codemirror_mode": {
    "name": "ipython",
    "version": 3
   },
   "file_extension": ".py",
   "mimetype": "text/x-python",
   "name": "python",
   "nbconvert_exporter": "python",
   "pygments_lexer": "ipython3",
   "version": "3.6.7"
  }
 },
 "nbformat": 4,
 "nbformat_minor": 4
}
