{
 "cells": [
  {
   "cell_type": "markdown",
   "metadata": {},
   "source": [
    "## Import modules & set database connection"
   ]
  },
  {
   "cell_type": "code",
   "execution_count": 3,
   "metadata": {},
   "outputs": [
    {
     "name": "stdout",
     "output_type": "stream",
     "text": [
      "The sql extension is already loaded. To reload it, use:\n",
      "  %reload_ext sql\n"
     ]
    },
    {
     "data": {
      "text/plain": [
       "'Connected: @CourseData.db'"
      ]
     },
     "execution_count": 3,
     "metadata": {},
     "output_type": "execute_result"
    }
   ],
   "source": [
    "%load_ext sql\n",
    "import pandas as pd\n",
    "import sqlite3 as sql\n",
    "\n",
    "%sql sqlite:///CourseData.db"
   ]
  },
  {
   "cell_type": "markdown",
   "metadata": {},
   "source": [
    "## 1. Domain Integrity\n",
    "\n",
    "- Check that ensures our datatypes and constraints are correctly defined.\n",
    "\n",
    "- We use PRAGMA to display our table's metadata. This information is used to double check that domain integrity is met and that our data is defined accurately."
   ]
  },
  {
   "cell_type": "code",
   "execution_count": 5,
   "metadata": {},
   "outputs": [
    {
     "name": "stdout",
     "output_type": "stream",
     "text": [
      " * sqlite:///CourseData.db\n",
      "Done.\n",
      "Done.\n"
     ]
    },
    {
     "data": {
      "text/html": [
       "<table>\n",
       "    <tr>\n",
       "        <th>cid</th>\n",
       "        <th>name</th>\n",
       "        <th>type</th>\n",
       "        <th>notnull</th>\n",
       "        <th>dflt_value</th>\n",
       "        <th>pk</th>\n",
       "    </tr>\n",
       "    <tr>\n",
       "        <td>0</td>\n",
       "        <td>CourseOfferingID</td>\n",
       "        <td>INTEGER</td>\n",
       "        <td>0</td>\n",
       "        <td>None</td>\n",
       "        <td>1</td>\n",
       "    </tr>\n",
       "    <tr>\n",
       "        <td>1</td>\n",
       "        <td>CourseID</td>\n",
       "        <td>INTEGER</td>\n",
       "        <td>0</td>\n",
       "        <td>None</td>\n",
       "        <td>0</td>\n",
       "    </tr>\n",
       "    <tr>\n",
       "        <td>2</td>\n",
       "        <td>CatalogID</td>\n",
       "        <td>TEXT</td>\n",
       "        <td>1</td>\n",
       "        <td>None</td>\n",
       "        <td>0</td>\n",
       "    </tr>\n",
       "    <tr>\n",
       "        <td>3</td>\n",
       "        <td>Term</td>\n",
       "        <td>TEXT</td>\n",
       "        <td>1</td>\n",
       "        <td>None</td>\n",
       "        <td>0</td>\n",
       "    </tr>\n",
       "    <tr>\n",
       "        <td>4</td>\n",
       "        <td>CRN</td>\n",
       "        <td>INTEGER</td>\n",
       "        <td>1</td>\n",
       "        <td>None</td>\n",
       "        <td>0</td>\n",
       "    </tr>\n",
       "    <tr>\n",
       "        <td>5</td>\n",
       "        <td>Section</td>\n",
       "        <td>TEXT</td>\n",
       "        <td>1</td>\n",
       "        <td>None</td>\n",
       "        <td>0</td>\n",
       "    </tr>\n",
       "    <tr>\n",
       "        <td>6</td>\n",
       "        <td>Credits</td>\n",
       "        <td>REAL</td>\n",
       "        <td>0</td>\n",
       "        <td>None</td>\n",
       "        <td>0</td>\n",
       "    </tr>\n",
       "    <tr>\n",
       "        <td>7</td>\n",
       "        <td>Title</td>\n",
       "        <td>TEXT</td>\n",
       "        <td>1</td>\n",
       "        <td>None</td>\n",
       "        <td>0</td>\n",
       "    </tr>\n",
       "    <tr>\n",
       "        <td>8</td>\n",
       "        <td>Timecodes</td>\n",
       "        <td>TEXT</td>\n",
       "        <td>0</td>\n",
       "        <td>None</td>\n",
       "        <td>0</td>\n",
       "    </tr>\n",
       "    <tr>\n",
       "        <td>9</td>\n",
       "        <td>PrimaryInstructorID</td>\n",
       "        <td>INTEGER</td>\n",
       "        <td>0</td>\n",
       "        <td>None</td>\n",
       "        <td>0</td>\n",
       "    </tr>\n",
       "    <tr>\n",
       "        <td>10</td>\n",
       "        <td>Capacity</td>\n",
       "        <td>INTEGER</td>\n",
       "        <td>1</td>\n",
       "        <td>None</td>\n",
       "        <td>0</td>\n",
       "    </tr>\n",
       "    <tr>\n",
       "        <td>11</td>\n",
       "        <td>Actual</td>\n",
       "        <td>INTEGER</td>\n",
       "        <td>1</td>\n",
       "        <td>None</td>\n",
       "        <td>0</td>\n",
       "    </tr>\n",
       "    <tr>\n",
       "        <td>12</td>\n",
       "        <td>Remaining</td>\n",
       "        <td>INTEGER</td>\n",
       "        <td>1</td>\n",
       "        <td>None</td>\n",
       "        <td>0</td>\n",
       "    </tr>\n",
       "</table>"
      ],
      "text/plain": [
       "[(0, 'CourseOfferingID', 'INTEGER', 0, None, 1),\n",
       " (1, 'CourseID', 'INTEGER', 0, None, 0),\n",
       " (2, 'CatalogID', 'TEXT', 1, None, 0),\n",
       " (3, 'Term', 'TEXT', 1, None, 0),\n",
       " (4, 'CRN', 'INTEGER', 1, None, 0),\n",
       " (5, 'Section', 'TEXT', 1, None, 0),\n",
       " (6, 'Credits', 'REAL', 0, None, 0),\n",
       " (7, 'Title', 'TEXT', 1, None, 0),\n",
       " (8, 'Timecodes', 'TEXT', 0, None, 0),\n",
       " (9, 'PrimaryInstructorID', 'INTEGER', 0, None, 0),\n",
       " (10, 'Capacity', 'INTEGER', 1, None, 0),\n",
       " (11, 'Actual', 'INTEGER', 1, None, 0),\n",
       " (12, 'Remaining', 'INTEGER', 1, None, 0)]"
      ]
     },
     "execution_count": 5,
     "metadata": {},
     "output_type": "execute_result"
    }
   ],
   "source": [
    "%%sql\n",
    "SELECT * FROM COURSE_OFFERINGS;\n",
    "PRAGMA table_info(COURSE_OFFERINGS);"
   ]
  },
  {
   "cell_type": "code",
   "execution_count": 6,
   "metadata": {},
   "outputs": [
    {
     "name": "stdout",
     "output_type": "stream",
     "text": [
      " * sqlite:///CourseData.db\n",
      "Done.\n",
      "Done.\n"
     ]
    },
    {
     "data": {
      "text/html": [
       "<table>\n",
       "    <tr>\n",
       "        <th>cid</th>\n",
       "        <th>name</th>\n",
       "        <th>type</th>\n",
       "        <th>notnull</th>\n",
       "        <th>dflt_value</th>\n",
       "        <th>pk</th>\n",
       "    </tr>\n",
       "    <tr>\n",
       "        <td>0</td>\n",
       "        <td>CourseID</td>\n",
       "        <td>INTEGER</td>\n",
       "        <td>0</td>\n",
       "        <td>None</td>\n",
       "        <td>1</td>\n",
       "    </tr>\n",
       "    <tr>\n",
       "        <td>1</td>\n",
       "        <td>CatalogYear</td>\n",
       "        <td>TEXT</td>\n",
       "        <td>1</td>\n",
       "        <td>None</td>\n",
       "        <td>0</td>\n",
       "    </tr>\n",
       "    <tr>\n",
       "        <td>2</td>\n",
       "        <td>CatalogID</td>\n",
       "        <td>TEXT</td>\n",
       "        <td>1</td>\n",
       "        <td>None</td>\n",
       "        <td>0</td>\n",
       "    </tr>\n",
       "    <tr>\n",
       "        <td>3</td>\n",
       "        <td>ProgramID</td>\n",
       "        <td>INTEGER</td>\n",
       "        <td>0</td>\n",
       "        <td>None</td>\n",
       "        <td>0</td>\n",
       "    </tr>\n",
       "    <tr>\n",
       "        <td>4</td>\n",
       "        <td>CourseTitle</td>\n",
       "        <td>TEXT</td>\n",
       "        <td>1</td>\n",
       "        <td>None</td>\n",
       "        <td>0</td>\n",
       "    </tr>\n",
       "    <tr>\n",
       "        <td>5</td>\n",
       "        <td>Credits</td>\n",
       "        <td>TEXT</td>\n",
       "        <td>1</td>\n",
       "        <td>None</td>\n",
       "        <td>0</td>\n",
       "    </tr>\n",
       "    <tr>\n",
       "        <td>6</td>\n",
       "        <td>Prereqs</td>\n",
       "        <td>TEXT</td>\n",
       "        <td>0</td>\n",
       "        <td>None</td>\n",
       "        <td>0</td>\n",
       "    </tr>\n",
       "    <tr>\n",
       "        <td>7</td>\n",
       "        <td>Coreqs</td>\n",
       "        <td>TEXT</td>\n",
       "        <td>0</td>\n",
       "        <td>None</td>\n",
       "        <td>0</td>\n",
       "    </tr>\n",
       "    <tr>\n",
       "        <td>8</td>\n",
       "        <td>Fees</td>\n",
       "        <td>TEXT</td>\n",
       "        <td>0</td>\n",
       "        <td>None</td>\n",
       "        <td>0</td>\n",
       "    </tr>\n",
       "    <tr>\n",
       "        <td>9</td>\n",
       "        <td>Attributes</td>\n",
       "        <td>TEXT</td>\n",
       "        <td>0</td>\n",
       "        <td>None</td>\n",
       "        <td>0</td>\n",
       "    </tr>\n",
       "    <tr>\n",
       "        <td>10</td>\n",
       "        <td>Description</td>\n",
       "        <td>TEXT</td>\n",
       "        <td>0</td>\n",
       "        <td>None</td>\n",
       "        <td>0</td>\n",
       "    </tr>\n",
       "</table>"
      ],
      "text/plain": [
       "[(0, 'CourseID', 'INTEGER', 0, None, 1),\n",
       " (1, 'CatalogYear', 'TEXT', 1, None, 0),\n",
       " (2, 'CatalogID', 'TEXT', 1, None, 0),\n",
       " (3, 'ProgramID', 'INTEGER', 0, None, 0),\n",
       " (4, 'CourseTitle', 'TEXT', 1, None, 0),\n",
       " (5, 'Credits', 'TEXT', 1, None, 0),\n",
       " (6, 'Prereqs', 'TEXT', 0, None, 0),\n",
       " (7, 'Coreqs', 'TEXT', 0, None, 0),\n",
       " (8, 'Fees', 'TEXT', 0, None, 0),\n",
       " (9, 'Attributes', 'TEXT', 0, None, 0),\n",
       " (10, 'Description', 'TEXT', 0, None, 0)]"
      ]
     },
     "execution_count": 6,
     "metadata": {},
     "output_type": "execute_result"
    }
   ],
   "source": [
    "%%sql\n",
    "SELECT * FROM CATALOG_COURSES;\n",
    "PRAGMA table_info(CATALOG_COURSES);"
   ]
  },
  {
   "cell_type": "code",
   "execution_count": 7,
   "metadata": {},
   "outputs": [
    {
     "name": "stdout",
     "output_type": "stream",
     "text": [
      " * sqlite:///CourseData.db\n",
      "Done.\n",
      "Done.\n"
     ]
    },
    {
     "data": {
      "text/html": [
       "<table>\n",
       "    <tr>\n",
       "        <th>cid</th>\n",
       "        <th>name</th>\n",
       "        <th>type</th>\n",
       "        <th>notnull</th>\n",
       "        <th>dflt_value</th>\n",
       "        <th>pk</th>\n",
       "    </tr>\n",
       "    <tr>\n",
       "        <td>0</td>\n",
       "        <td>CourseMeetingID</td>\n",
       "        <td>INTEGER</td>\n",
       "        <td>0</td>\n",
       "        <td>None</td>\n",
       "        <td>1</td>\n",
       "    </tr>\n",
       "    <tr>\n",
       "        <td>1</td>\n",
       "        <td>CourseOfferingID</td>\n",
       "        <td>INTEGER</td>\n",
       "        <td>1</td>\n",
       "        <td>None</td>\n",
       "        <td>0</td>\n",
       "    </tr>\n",
       "    <tr>\n",
       "        <td>2</td>\n",
       "        <td>LocationID</td>\n",
       "        <td>INTEGER</td>\n",
       "        <td>1</td>\n",
       "        <td>None</td>\n",
       "        <td>0</td>\n",
       "    </tr>\n",
       "    <tr>\n",
       "        <td>3</td>\n",
       "        <td>StartDateTime</td>\n",
       "        <td>TEXT</td>\n",
       "        <td>1</td>\n",
       "        <td>None</td>\n",
       "        <td>0</td>\n",
       "    </tr>\n",
       "    <tr>\n",
       "        <td>4</td>\n",
       "        <td>EndDateTime</td>\n",
       "        <td>TEXT</td>\n",
       "        <td>1</td>\n",
       "        <td>None</td>\n",
       "        <td>0</td>\n",
       "    </tr>\n",
       "</table>"
      ],
      "text/plain": [
       "[(0, 'CourseMeetingID', 'INTEGER', 0, None, 1),\n",
       " (1, 'CourseOfferingID', 'INTEGER', 1, None, 0),\n",
       " (2, 'LocationID', 'INTEGER', 1, None, 0),\n",
       " (3, 'StartDateTime', 'TEXT', 1, None, 0),\n",
       " (4, 'EndDateTime', 'TEXT', 1, None, 0)]"
      ]
     },
     "execution_count": 7,
     "metadata": {},
     "output_type": "execute_result"
    }
   ],
   "source": [
    "%%sql\n",
    "SELECT * FROM COURSE_MEETINGS;\n",
    "PRAGMA table_info(COURSE_MEETINGS);"
   ]
  },
  {
   "cell_type": "markdown",
   "metadata": {},
   "source": [
    "## 2. Entity Integrity\n",
    "\n",
    "- There should be 4440 Catalog Entries, 15937 Course Offerings, and 284847 Course Meetings.\n",
    "\n",
    "- With our Entity integrity check we are expecting to match the number of rows within our tables to the number of rows that we loaded into our CourseData.db."
   ]
  },
  {
   "cell_type": "code",
   "execution_count": 9,
   "metadata": {},
   "outputs": [
    {
     "name": "stdout",
     "output_type": "stream",
     "text": [
      " * sqlite:///CourseData.db\n",
      "Done.\n"
     ]
    },
    {
     "data": {
      "text/html": [
       "<table>\n",
       "    <tr>\n",
       "        <th>CatalogCourses</th>\n",
       "        <th>CourseOfferings</th>\n",
       "        <th>CourseMeetings</th>\n",
       "    </tr>\n",
       "    <tr>\n",
       "        <td>4440</td>\n",
       "        <td>15937</td>\n",
       "        <td>284847</td>\n",
       "    </tr>\n",
       "</table>"
      ],
      "text/plain": [
       "[(4440, 15937, 284847)]"
      ]
     },
     "execution_count": 9,
     "metadata": {},
     "output_type": "execute_result"
    }
   ],
   "source": [
    "%%sql\n",
    "\n",
    "SELECT \n",
    "    (SELECT Count(*) FROM CATALOG_COURSES) as CatalogCourses,\n",
    "    (SELECT Count(*) FROM COURSE_OFFERINGS) as CourseOfferings,\n",
    "    (SELECT Count(*) FROM COURSE_MEETINGS) as CourseMeetings;"
   ]
  },
  {
   "cell_type": "markdown",
   "metadata": {},
   "source": [
    "## 3. Relational Integrity\n",
    "\n",
    "- Check that ensures our tables can all be joined and queried appropriately using PK --> FK pairs.\n",
    "\n",
    "- We use a query that requires every table in our ERD to be joined in order to confirm its relational integrity."
   ]
  },
  {
   "cell_type": "code",
   "execution_count": 10,
   "metadata": {},
   "outputs": [
    {
     "name": "stdout",
     "output_type": "stream",
     "text": [
      " * sqlite:///CourseData.db\n",
      "Done.\n"
     ]
    },
    {
     "data": {
      "text/html": [
       "<table>\n",
       "    <tr>\n",
       "        <th>CourseID</th>\n",
       "        <th>ProfessorName</th>\n",
       "        <th>Term</th>\n",
       "        <th>Section</th>\n",
       "        <th>Title</th>\n",
       "        <th>ProgramName</th>\n",
       "        <th>CourseDate</th>\n",
       "        <th>CourseStartTime</th>\n",
       "        <th>CourseEndTime</th>\n",
       "        <th>Location</th>\n",
       "        <th>Year</th>\n",
       "    </tr>\n",
       "    <tr>\n",
       "        <td>2683</td>\n",
       "        <td>Christopher L.  Huntley</td>\n",
       "        <td>Spring2019</td>\n",
       "        <td>02</td>\n",
       "        <td>Operations Management</td>\n",
       "        <td>Operations Management</td>\n",
       "        <td>2019-01-24</td>\n",
       "        <td>11:00:00</td>\n",
       "        <td>12:15:00</td>\n",
       "        <td>DSB 110B</td>\n",
       "        <td>2019</td>\n",
       "    </tr>\n",
       "    <tr>\n",
       "        <td>2683</td>\n",
       "        <td>Christopher L.  Huntley</td>\n",
       "        <td>Spring2019</td>\n",
       "        <td>02</td>\n",
       "        <td>Operations Management</td>\n",
       "        <td>Operations Management</td>\n",
       "        <td>2019-01-28</td>\n",
       "        <td>11:00:00</td>\n",
       "        <td>12:15:00</td>\n",
       "        <td>DSB 110B</td>\n",
       "        <td>2019</td>\n",
       "    </tr>\n",
       "    <tr>\n",
       "        <td>2683</td>\n",
       "        <td>Christopher L.  Huntley</td>\n",
       "        <td>Spring2019</td>\n",
       "        <td>02</td>\n",
       "        <td>Operations Management</td>\n",
       "        <td>Operations Management</td>\n",
       "        <td>2019-01-31</td>\n",
       "        <td>11:00:00</td>\n",
       "        <td>12:15:00</td>\n",
       "        <td>DSB 110B</td>\n",
       "        <td>2019</td>\n",
       "    </tr>\n",
       "    <tr>\n",
       "        <td>2683</td>\n",
       "        <td>Christopher L.  Huntley</td>\n",
       "        <td>Spring2019</td>\n",
       "        <td>02</td>\n",
       "        <td>Operations Management</td>\n",
       "        <td>Operations Management</td>\n",
       "        <td>2019-02-04</td>\n",
       "        <td>11:00:00</td>\n",
       "        <td>12:15:00</td>\n",
       "        <td>DSB 110B</td>\n",
       "        <td>2019</td>\n",
       "    </tr>\n",
       "    <tr>\n",
       "        <td>2683</td>\n",
       "        <td>Christopher L.  Huntley</td>\n",
       "        <td>Spring2019</td>\n",
       "        <td>02</td>\n",
       "        <td>Operations Management</td>\n",
       "        <td>Operations Management</td>\n",
       "        <td>2019-02-07</td>\n",
       "        <td>11:00:00</td>\n",
       "        <td>12:15:00</td>\n",
       "        <td>DSB 110B</td>\n",
       "        <td>2019</td>\n",
       "    </tr>\n",
       "</table>"
      ],
      "text/plain": [
       "[(2683, 'Christopher L.  Huntley', 'Spring2019', '02', 'Operations Management', 'Operations Management', '2019-01-24', '11:00:00', '12:15:00', 'DSB 110B', '2019'),\n",
       " (2683, 'Christopher L.  Huntley', 'Spring2019', '02', 'Operations Management', 'Operations Management', '2019-01-28', '11:00:00', '12:15:00', 'DSB 110B', '2019'),\n",
       " (2683, 'Christopher L.  Huntley', 'Spring2019', '02', 'Operations Management', 'Operations Management', '2019-01-31', '11:00:00', '12:15:00', 'DSB 110B', '2019'),\n",
       " (2683, 'Christopher L.  Huntley', 'Spring2019', '02', 'Operations Management', 'Operations Management', '2019-02-04', '11:00:00', '12:15:00', 'DSB 110B', '2019'),\n",
       " (2683, 'Christopher L.  Huntley', 'Spring2019', '02', 'Operations Management', 'Operations Management', '2019-02-07', '11:00:00', '12:15:00', 'DSB 110B', '2019')]"
      ]
     },
     "execution_count": 10,
     "metadata": {},
     "output_type": "execute_result"
    }
   ],
   "source": [
    "%%sql\n",
    "\n",
    "SELECT CourseID,Name as ProfessorName,TERM_TO_CATALOG_YEAR.Term,Section,Title,ProgramName,\n",
    "       substr(StartDateTime,1,10) as CourseDate,substr(StartDateTime,-8) as CourseStartTime,\n",
    "       substr(EndDateTime,-8) as CourseEndTime,LocationCode as Location,substr(Term,-4) as Year \n",
    "FROM COURSE_OFFERINGS\n",
    "    LEFT JOIN COURSE_INSTRUCTORS ON (COURSE_OFFERINGS.PrimaryInstructorID = COURSE_INSTRUCTORS.InstructorID)\n",
    "    LEFT JOIN TERM_TO_CATALOG_YEAR USING(Term)\n",
    "    LEFT JOIN CATALOG_COURSES USING(CourseID)\n",
    "    LEFT JOIN PROGRAMS USING(ProgramID)\n",
    "    LEFT JOIN COURSE_MEETINGS USING(CourseOfferingID)\n",
    "    LEFT JOIN COURSE_LOCATIONS USING(LocationID)\n",
    "WHERE Name LIKE '%Huntley'\n",
    "ORDER BY Term DESC\n",
    "LIMIT 5;"
   ]
  }
 ],
 "metadata": {
  "kernelspec": {
   "display_name": "Python 3",
   "language": "python",
   "name": "python3"
  },
  "language_info": {
   "codemirror_mode": {
    "name": "ipython",
    "version": 3
   },
   "file_extension": ".py",
   "mimetype": "text/x-python",
   "name": "python",
   "nbconvert_exporter": "python",
   "pygments_lexer": "ipython3",
   "version": "3.6.7"
  }
 },
 "nbformat": 4,
 "nbformat_minor": 4
}
