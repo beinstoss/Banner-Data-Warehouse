{
 "cells": [
  {
   "cell_type": "markdown",
   "metadata": {},
   "source": [
    "## Import modules & set database connection"
   ]
  },
  {
   "cell_type": "code",
   "execution_count": 2,
   "metadata": {},
   "outputs": [],
   "source": [
    "%load_ext sql\n",
    "import pandas as pd\n",
    "import sqlite3 as sql\n",
    "\n",
    "%sql sqlite:///CourseData.db\n",
    "conn = sql.connect('CourseData.db')"
   ]
  },
  {
   "cell_type": "markdown",
   "metadata": {},
   "source": [
    "## Domain Integrity"
   ]
  },
  {
   "cell_type": "code",
   "execution_count": null,
   "metadata": {},
   "outputs": [],
   "source": [
    "%%sql\n",
    "SELECT * FROM COURSE_OFFERINGS;\n",
    "PRAGMA table_info(COURSE_OFFERINGS);"
   ]
  },
  {
   "cell_type": "code",
   "execution_count": null,
   "metadata": {},
   "outputs": [],
   "source": [
    "%%sql\n",
    "SELECT * FROM COURSE_OFFERINGS\n",
    "PRAGMA table_info(CATALOG_COURSES);"
   ]
  },
  {
   "cell_type": "code",
   "execution_count": null,
   "metadata": {},
   "outputs": [],
   "source": [
    "%%sql\n",
    "SELECT * FROM COURSE_MEETINGS;\n",
    "PRAGMA table_info(COURSE_MEETINGS);"
   ]
  },
  {
   "cell_type": "markdown",
   "metadata": {},
   "source": [
    "## Entity Integrity\n",
    "\n",
    "- There should be 4440 Catalog Entries, 15937 Course Offerings, and 284847 Course Meetings. Added the rest of the tables as a \"sanity\" double check since the 3 mentioned create the \"core\" of our database.\n",
    "- With our Entity integrity check we are expecting to match the number of rows within our tables to the number of rows that we inserted into our CourseData.db."
   ]
  },
  {
   "cell_type": "code",
   "execution_count": 3,
   "metadata": {},
   "outputs": [
    {
     "name": "stdout",
     "output_type": "stream",
     "text": [
      " * sqlite:///CourseData.db\n",
      "Done.\n"
     ]
    },
    {
     "data": {
      "text/html": [
       "<table>\n",
       "    <tr>\n",
       "        <th>CatalogCourses</th>\n",
       "        <th>CourseOfferings</th>\n",
       "        <th>CourseMeetings</th>\n",
       "        <th>Programs</th>\n",
       "        <th>TermToCatYear</th>\n",
       "        <th>Course_Instructors</th>\n",
       "        <th>Course_Locations</th>\n",
       "    </tr>\n",
       "    <tr>\n",
       "        <td>4440</td>\n",
       "        <td>15937</td>\n",
       "        <td>284847</td>\n",
       "        <td>83</td>\n",
       "        <td>7</td>\n",
       "        <td>1095</td>\n",
       "        <td>207</td>\n",
       "    </tr>\n",
       "</table>"
      ],
      "text/plain": [
       "[(4440, 15937, 284847, 83, 7, 1095, 207)]"
      ]
     },
     "execution_count": 3,
     "metadata": {},
     "output_type": "execute_result"
    }
   ],
   "source": [
    "%%sql\n",
    "\n",
    "SELECT \n",
    "    (SELECT Count(*) FROM CATALOG_COURSES) as CatalogCourses,\n",
    "    (SELECT Count(*) FROM COURSE_OFFERINGS) as CourseOfferings,\n",
    "    (SELECT Count(*) FROM COURSE_MEETINGS) as CourseMeetings,\n",
    "    (SELECT Count(*) FROM PROGRAMS) as Programs,\n",
    "    (SELECT Count(*) FROM TERM_TO_CATALOG_YEAR) as TermToCatYear,\n",
    "    (SELECT Count(*) FROM COURSE_INSTRUCTORS) as Course_Instructors,\n",
    "    (SELECT Count(*) FROM COURSE_LOCATIONS) as Course_Locations   \n",
    "    ;"
   ]
  },
  {
   "cell_type": "markdown",
   "metadata": {},
   "source": [
    "## Relational Integrity\n",
    "\n",
    "- Here we are joining all of the tables within our ERD and utilizing fields from different tables to show a high level example of what is possible to derive from our database"
   ]
  },
  {
   "cell_type": "code",
   "execution_count": null,
   "metadata": {},
   "outputs": [],
   "source": [
    "%%sql\n",
    "\n",
    "SELECT Name as ProfessorName,Term,Section,Title as CourseTitle,substr(StartDateTime,1,10) as CourseDate,substr(StartDateTime,-8) as CourseStartTime,substr(EndDateTime,-8) as CourseEndTime,LocationCode as Location,substr(Term,-4) as Year \n",
    "FROM COURSE_OFFERINGS\n",
    "    LEFT JOIN COURSE_INSTRUCTORS ON (COURSE_OFFERINGS.PrimaryInstructorID = COURSE_INSTRUCTORS.InstructorID)\n",
    "    LEFT JOIN TERM_TO_CATALOG_YEAR USING(Term)\n",
    "    LEFT JOIN CATALOG_COURSES USING(CourseID)\n",
    "    LEFT JOIN PROGRAMS USING(ProgramID)\n",
    "    LEFT JOIN COURSE_MEETINGS USING(CourseOfferingID)\n",
    "    LEFT JOIN COURSE_LOCATIONS USING(LocationID)\n",
    "WHERE Name LIKE '%Huntley'\n",
    "ORDER BY Term DESC\n",
    "LIMIT 10;\n",
    "\n"
   ]
  },
  {
   "cell_type": "code",
   "execution_count": null,
   "metadata": {},
   "outputs": [],
   "source": []
  }
 ],
 "metadata": {
  "kernelspec": {
   "display_name": "Python 3",
   "language": "python",
   "name": "python3"
  },
  "language_info": {
   "codemirror_mode": {
    "name": "ipython",
    "version": 3
   },
   "file_extension": ".py",
   "mimetype": "text/x-python",
   "name": "python",
   "nbconvert_exporter": "python",
   "pygments_lexer": "ipython3",
   "version": "3.6.7"
  }
 },
 "nbformat": 4,
 "nbformat_minor": 4
}
