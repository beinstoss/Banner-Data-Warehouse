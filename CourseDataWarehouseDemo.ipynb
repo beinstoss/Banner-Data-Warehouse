{
 "cells": [
  {
   "cell_type": "markdown",
   "metadata": {},
   "source": [
    "## Import modules & set database connection"
   ]
  },
  {
   "cell_type": "code",
   "execution_count": 132,
   "metadata": {},
   "outputs": [
    {
     "name": "stdout",
     "output_type": "stream",
     "text": [
      "The sql extension is already loaded. To reload it, use:\n",
      "  %reload_ext sql\n"
     ]
    },
    {
     "data": {
      "text/plain": [
       "'Connected: @CourseDataWarehouse.db'"
      ]
     },
     "execution_count": 132,
     "metadata": {},
     "output_type": "execute_result"
    }
   ],
   "source": [
    "%load_ext sql\n",
    "import pandas as pd\n",
    "import sqlite3 as sql\n",
    "\n",
    "%sql sqlite:///CourseDataWarehouse.db"
   ]
  },
  {
   "cell_type": "markdown",
   "metadata": {},
   "source": [
    "\n",
    "\n",
    "## Query #1\n",
    "\n",
    "\n",
    "- __Query 1A__ represents a broad dimensionsional view of the number of courses and instructors within each CatalogYear (very general). \n",
    "  * This is useful when analyzing staffing levels across the entire University (macro level).\n",
    "  \n",
    "  \n",
    "- __Query 1B__ adjusts the scope of query A to a lower dimension in order to view the number of courses taught per professor within a specific program and term (more specific and insightful).\n",
    "  * This is useful when analyzing the staffing levels specific to a department (micro level).\n",
    "\n",
    "  "
   ]
  },
  {
   "cell_type": "markdown",
   "metadata": {},
   "source": [
    "#### Query 1A."
   ]
  },
  {
   "cell_type": "code",
   "execution_count": 133,
   "metadata": {},
   "outputs": [
    {
     "name": "stdout",
     "output_type": "stream",
     "text": [
      " * sqlite:///CourseDataWarehouse.db\n",
      "Done.\n"
     ]
    },
    {
     "data": {
      "text/html": [
       "<table>\n",
       "    <tr>\n",
       "        <th>CatalogYear</th>\n",
       "        <th>CatalogsCount</th>\n",
       "        <th>InstructorsCount</th>\n",
       "    </tr>\n",
       "    <tr>\n",
       "        <td>2018_2019</td>\n",
       "        <td>977</td>\n",
       "        <td>620</td>\n",
       "    </tr>\n",
       "    <tr>\n",
       "        <td>2017_2018</td>\n",
       "        <td>1125</td>\n",
       "        <td>642</td>\n",
       "    </tr>\n",
       "</table>"
      ],
      "text/plain": [
       "[('2018_2019', 977, 620), ('2017_2018', 1125, 642)]"
      ]
     },
     "execution_count": 133,
     "metadata": {},
     "output_type": "execute_result"
    }
   ],
   "source": [
    "%%sql\n",
    "SELECT CatalogYear, COUNT(DISTINCT CatalogID) AS CatalogsCount, COUNT(DISTINCT InstructorID) as InstructorsCount\n",
    "FROM CATALOG_DIMENSION\n",
    "    LEFT JOIN FACT_TABLE USING(CourseID)\n",
    "    LEFT JOIN COURSE_DIMENSION USING(CourseOfferingID)\n",
    "    LEFT JOIN INSTRUCTOR_DIMENSION USING(InstructorID)\n",
    "    JOIN TIME_DIMENSION USING(CourseMeetingID)\n",
    "GROUP BY CatalogYear\n",
    "ORDER BY CourseDate DESC;"
   ]
  },
  {
   "cell_type": "markdown",
   "metadata": {},
   "source": [
    "#### Query 1B."
   ]
  },
  {
   "cell_type": "code",
   "execution_count": 134,
   "metadata": {},
   "outputs": [
    {
     "name": "stdout",
     "output_type": "stream",
     "text": [
      " * sqlite:///CourseDataWarehouse.db\n",
      "Done.\n"
     ]
    },
    {
     "data": {
      "text/html": [
       "<table>\n",
       "    <tr>\n",
       "        <th>Name</th>\n",
       "        <th>Term</th>\n",
       "        <th>ProgramName</th>\n",
       "        <th>CatalogsTaught</th>\n",
       "        <th>CatalogsTotal</th>\n",
       "    </tr>\n",
       "    <tr>\n",
       "        <td>Christopher L.  Huntley</td>\n",
       "        <td>Fall2017</td>\n",
       "        <td>Information Systems</td>\n",
       "        <td>3</td>\n",
       "        <td>8</td>\n",
       "    </tr>\n",
       "    <tr>\n",
       "        <td>Vishnu V.  Vinekar</td>\n",
       "        <td>Fall2017</td>\n",
       "        <td>Information Systems</td>\n",
       "        <td>3</td>\n",
       "        <td>8</td>\n",
       "    </tr>\n",
       "    <tr>\n",
       "        <td>Yasin   Ozcelik</td>\n",
       "        <td>Fall2017</td>\n",
       "        <td>Information Systems</td>\n",
       "        <td>2</td>\n",
       "        <td>8</td>\n",
       "    </tr>\n",
       "    <tr>\n",
       "        <td>Kanlun   Wang</td>\n",
       "        <td>Fall2017</td>\n",
       "        <td>Information Systems</td>\n",
       "        <td>1</td>\n",
       "        <td>8</td>\n",
       "    </tr>\n",
       "    <tr>\n",
       "        <td>Nicholas F.  Socci</td>\n",
       "        <td>Fall2017</td>\n",
       "        <td>Information Systems</td>\n",
       "        <td>1</td>\n",
       "        <td>8</td>\n",
       "    </tr>\n",
       "    <tr>\n",
       "        <td>Patrick S.  Lee</td>\n",
       "        <td>Fall2017</td>\n",
       "        <td>Information Systems</td>\n",
       "        <td>1</td>\n",
       "        <td>8</td>\n",
       "    </tr>\n",
       "    <tr>\n",
       "        <td>Thomas F.  McCabe</td>\n",
       "        <td>Fall2017</td>\n",
       "        <td>Information Systems</td>\n",
       "        <td>1</td>\n",
       "        <td>8</td>\n",
       "    </tr>\n",
       "</table>"
      ],
      "text/plain": [
       "[('Christopher L.  Huntley', 'Fall2017', 'Information Systems', 3, 8),\n",
       " ('Vishnu V.  Vinekar', 'Fall2017', 'Information Systems', 3, 8),\n",
       " ('Yasin   Ozcelik', 'Fall2017', 'Information Systems', 2, 8),\n",
       " ('Kanlun   Wang', 'Fall2017', 'Information Systems', 1, 8),\n",
       " ('Nicholas F.  Socci', 'Fall2017', 'Information Systems', 1, 8),\n",
       " ('Patrick S.  Lee', 'Fall2017', 'Information Systems', 1, 8),\n",
       " ('Thomas F.  McCabe', 'Fall2017', 'Information Systems', 1, 8)]"
      ]
     },
     "execution_count": 134,
     "metadata": {},
     "output_type": "execute_result"
    }
   ],
   "source": [
    "%%sql\n",
    "SELECT DISTINCT Name,Term,ProgramName,\n",
    "        COUNT(DISTINCT CatalogID) AS CatalogsTaught,\n",
    "        (\n",
    "         SELECT COUNT(DISTINCT CatalogID) AS TotCatalog\n",
    "            FROM CATALOG_DIMENSION\n",
    "                LEFT JOIN FACT_TABLE USING (CourseID)\n",
    "                LEFT JOIN TIME_DIMENSION USING (CourseMeetingID)\n",
    "            WHERE Term = 'Fall2017' AND ProgramName LIKE '%Information%'\n",
    "        ) AS CatalogsTotal\n",
    "FROM CATALOG_DIMENSION\n",
    "    LEFT JOIN FACT_TABLE USING (CourseID)\n",
    "    LEFT JOIN INSTRUCTOR_DIMENSION USING (InstructorID)\n",
    "    LEFT JOIN TIME_DIMENSION USING (CourseMeetingID)\n",
    "WHERE Term ='Fall2017' AND ProgramName LIKE '%Information%'\n",
    "GROUP BY Name\n",
    "ORDER BY CatalogsTaught DESC;"
   ]
  },
  {
   "cell_type": "markdown",
   "metadata": {},
   "source": [
    "\n",
    "\n",
    "## Query #2\n",
    "\n",
    "- __Query A__ represents the top ten courses with the most sections for a specific term and the total number of instructors teaching them. \n",
    "  * Query A output shows that 11 sections of CatalogID BI 0171P are being taught by 1 professor. This is a red flag.\n",
    "  \n",
    "  \n",
    "- __Query B__ represents an example of what the user might do after seeing the output from query A.\n",
    "  * Query B output reveils a deeper dimension outlining the TimeCodes for the 11 sections that are being taught by 1 professor. After reviewing this output, the user is now certain that the professor is not being unfairly overworked."
   ]
  },
  {
   "cell_type": "markdown",
   "metadata": {},
   "source": [
    "#### Query 2A."
   ]
  },
  {
   "cell_type": "code",
   "execution_count": 135,
   "metadata": {},
   "outputs": [
    {
     "name": "stdout",
     "output_type": "stream",
     "text": [
      " * sqlite:///CourseDataWarehouse.db\n",
      "Done.\n"
     ]
    },
    {
     "data": {
      "text/html": [
       "<table>\n",
       "    <tr>\n",
       "        <th>Term</th>\n",
       "        <th>CatalogID</th>\n",
       "        <th>Title</th>\n",
       "        <th>NumSections</th>\n",
       "        <th>TotalInstructors</th>\n",
       "    </tr>\n",
       "    <tr>\n",
       "        <td>Spring2019</td>\n",
       "        <td>EN 0012</td>\n",
       "        <td>Texts and Contexts II: Writing About Literature</td>\n",
       "        <td>49</td>\n",
       "        <td>25</td>\n",
       "    </tr>\n",
       "    <tr>\n",
       "        <td>Spring2019</td>\n",
       "        <td>EC 0012</td>\n",
       "        <td>Introduction to Macroeconomics</td>\n",
       "        <td>21</td>\n",
       "        <td>10</td>\n",
       "    </tr>\n",
       "    <tr>\n",
       "        <td>Spring2019</td>\n",
       "        <td>NS 0323C</td>\n",
       "        <td>Pediatric Nursing Clinical</td>\n",
       "        <td>19</td>\n",
       "        <td>6</td>\n",
       "    </tr>\n",
       "    <tr>\n",
       "        <td>Spring2019</td>\n",
       "        <td>MA 0217</td>\n",
       "        <td>Accelerated Statistics</td>\n",
       "        <td>18</td>\n",
       "        <td>11</td>\n",
       "    </tr>\n",
       "    <tr>\n",
       "        <td>Spring2019</td>\n",
       "        <td>PH 0101</td>\n",
       "        <td>Introduction to Philosophy</td>\n",
       "        <td>18</td>\n",
       "        <td>9</td>\n",
       "    </tr>\n",
       "    <tr>\n",
       "        <td>Spring2019</td>\n",
       "        <td>AC 0012</td>\n",
       "        <td>Introduction to Management Accounting</td>\n",
       "        <td>15</td>\n",
       "        <td>8</td>\n",
       "    </tr>\n",
       "    <tr>\n",
       "        <td>Spring2019</td>\n",
       "        <td>NS 0305C</td>\n",
       "        <td>Mental Health Nursing Clinical</td>\n",
       "        <td>15</td>\n",
       "        <td>5</td>\n",
       "    </tr>\n",
       "    <tr>\n",
       "        <td>Spring2019</td>\n",
       "        <td>NS 0312C</td>\n",
       "        <td>Medical Surgical Nursing I Clinical</td>\n",
       "        <td>14</td>\n",
       "        <td>13</td>\n",
       "    </tr>\n",
       "    <tr>\n",
       "        <td>Spring2019</td>\n",
       "        <td>BI 0108L</td>\n",
       "        <td>Human Anatomy and Physiology Lab II</td>\n",
       "        <td>11</td>\n",
       "        <td>4</td>\n",
       "    </tr>\n",
       "    <tr>\n",
       "        <td>Spring2019</td>\n",
       "        <td>BI 0171P</td>\n",
       "        <td>General Biology II PLG</td>\n",
       "        <td>11</td>\n",
       "        <td>1</td>\n",
       "    </tr>\n",
       "</table>"
      ],
      "text/plain": [
       "[('Spring2019', 'EN 0012', 'Texts and Contexts II: Writing About Literature', 49, 25),\n",
       " ('Spring2019', 'EC 0012', 'Introduction to Macroeconomics', 21, 10),\n",
       " ('Spring2019', 'NS 0323C', 'Pediatric Nursing Clinical', 19, 6),\n",
       " ('Spring2019', 'MA 0217', 'Accelerated Statistics', 18, 11),\n",
       " ('Spring2019', 'PH 0101', 'Introduction to Philosophy', 18, 9),\n",
       " ('Spring2019', 'AC 0012', 'Introduction to Management Accounting', 15, 8),\n",
       " ('Spring2019', 'NS 0305C', 'Mental Health Nursing Clinical', 15, 5),\n",
       " ('Spring2019', 'NS 0312C', 'Medical Surgical Nursing I Clinical', 14, 13),\n",
       " ('Spring2019', 'BI 0108L', 'Human Anatomy and Physiology Lab II', 11, 4),\n",
       " ('Spring2019', 'BI 0171P', 'General Biology II PLG', 11, 1)]"
      ]
     },
     "execution_count": 135,
     "metadata": {},
     "output_type": "execute_result"
    }
   ],
   "source": [
    "%%sql\n",
    "SELECT Term,CatalogID,Title,\n",
    "                COUNT(DISTINCT Section) AS NumSections,  \n",
    "                COUNT(DISTINCT InstructorID) AS TotalInstructors\n",
    "FROM CATALOG_DIMENSION\n",
    "    LEFT JOIN FACT_TABLE USING(CourseID)\n",
    "    LEFT JOIN TIME_DIMENSION USING(CourseMeetingID)\n",
    "    LEFT JOIN COURSE_DIMENSION USING(CourseOfferingID)\n",
    "    LEFT JOIN INSTRUCTOR_DIMENSION USING(InstructorID)\n",
    "WHERE Term LIKE '%Spring2019'\n",
    "GROUP BY Term,CatalogID\n",
    "ORDER BY NumSections DESC\n",
    "LIMIT 10;"
   ]
  },
  {
   "cell_type": "markdown",
   "metadata": {},
   "source": [
    "#### Query 2B."
   ]
  },
  {
   "cell_type": "code",
   "execution_count": 136,
   "metadata": {},
   "outputs": [
    {
     "name": "stdout",
     "output_type": "stream",
     "text": [
      " * sqlite:///CourseDataWarehouse.db\n",
      "Done.\n"
     ]
    },
    {
     "data": {
      "text/html": [
       "<table>\n",
       "    <tr>\n",
       "        <th>Name</th>\n",
       "        <th>Term</th>\n",
       "        <th>Title</th>\n",
       "        <th>Section</th>\n",
       "        <th>CatalogID</th>\n",
       "        <th>Timecodes</th>\n",
       "    </tr>\n",
       "    <tr>\n",
       "        <td>Catherine J.  Andersen</td>\n",
       "        <td>Spring2019</td>\n",
       "        <td>General Biology II PLG</td>\n",
       "        <td>01</td>\n",
       "        <td>BI 0171P</td>\n",
       "        <td>[&#x27;T 0300pm-0350pm 01/22-04/30 BNW 319&#x27;]</td>\n",
       "    </tr>\n",
       "    <tr>\n",
       "        <td>Catherine J.  Andersen</td>\n",
       "        <td>Spring2019</td>\n",
       "        <td>General Biology II PLG</td>\n",
       "        <td>02</td>\n",
       "        <td>BI 0171P</td>\n",
       "        <td>[&#x27;T 0400pm-0450pm 01/22-04/30 BNW 319&#x27;]</td>\n",
       "    </tr>\n",
       "    <tr>\n",
       "        <td>Catherine J.  Andersen</td>\n",
       "        <td>Spring2019</td>\n",
       "        <td>General Biology II PLG</td>\n",
       "        <td>03</td>\n",
       "        <td>BI 0171P</td>\n",
       "        <td>[&#x27;T 0500pm-0550pm 01/22-04/30 BNW 319&#x27;]</td>\n",
       "    </tr>\n",
       "    <tr>\n",
       "        <td>Catherine J.  Andersen</td>\n",
       "        <td>Spring2019</td>\n",
       "        <td>General Biology II PLG</td>\n",
       "        <td>04</td>\n",
       "        <td>BI 0171P</td>\n",
       "        <td>[&#x27;T 0600pm-0650pm 01/22-04/30 BNW 319&#x27;]</td>\n",
       "    </tr>\n",
       "    <tr>\n",
       "        <td>Catherine J.  Andersen</td>\n",
       "        <td>Spring2019</td>\n",
       "        <td>General Biology II PLG</td>\n",
       "        <td>05</td>\n",
       "        <td>BI 0171P</td>\n",
       "        <td>[&#x27;W 0300pm-0350pm 01/22-04/30 BNW 319&#x27;]</td>\n",
       "    </tr>\n",
       "    <tr>\n",
       "        <td>Catherine J.  Andersen</td>\n",
       "        <td>Spring2019</td>\n",
       "        <td>General Biology II PLG</td>\n",
       "        <td>06</td>\n",
       "        <td>BI 0171P</td>\n",
       "        <td>[&#x27;W 0400pm-0450pm 01/22-04/30 BNW 319&#x27;]</td>\n",
       "    </tr>\n",
       "    <tr>\n",
       "        <td>Catherine J.  Andersen</td>\n",
       "        <td>Spring2019</td>\n",
       "        <td>General Biology II PLG</td>\n",
       "        <td>07</td>\n",
       "        <td>BI 0171P</td>\n",
       "        <td>[&#x27;W 0500pm-0550pm 01/22-04/30 BNW 319&#x27;]</td>\n",
       "    </tr>\n",
       "    <tr>\n",
       "        <td>Catherine J.  Andersen</td>\n",
       "        <td>Spring2019</td>\n",
       "        <td>General Biology II PLG</td>\n",
       "        <td>08</td>\n",
       "        <td>BI 0171P</td>\n",
       "        <td>[&#x27;W 0600pm-0650pm 01/22-04/30 BNW 319&#x27;]</td>\n",
       "    </tr>\n",
       "    <tr>\n",
       "        <td>Catherine J.  Andersen</td>\n",
       "        <td>Spring2019</td>\n",
       "        <td>General Biology II PLG</td>\n",
       "        <td>09</td>\n",
       "        <td>BI 0171P</td>\n",
       "        <td>[&#x27;R 0300pm-0350pm 01/22-04/30 BNW 319&#x27;]</td>\n",
       "    </tr>\n",
       "    <tr>\n",
       "        <td>Catherine J.  Andersen</td>\n",
       "        <td>Spring2019</td>\n",
       "        <td>General Biology II PLG</td>\n",
       "        <td>10</td>\n",
       "        <td>BI 0171P</td>\n",
       "        <td>[&#x27;R 0400pm-0450pm 01/22-04/30 BNW 319&#x27;]</td>\n",
       "    </tr>\n",
       "    <tr>\n",
       "        <td>Catherine J.  Andersen</td>\n",
       "        <td>Spring2019</td>\n",
       "        <td>General Biology II PLG</td>\n",
       "        <td>11</td>\n",
       "        <td>BI 0171P</td>\n",
       "        <td>[&#x27;R 0500pm-0550pm 01/22-04/30 BNW 319&#x27;]</td>\n",
       "    </tr>\n",
       "</table>"
      ],
      "text/plain": [
       "[('Catherine J.  Andersen', 'Spring2019', 'General Biology II PLG', '01', 'BI 0171P', \"['T 0300pm-0350pm 01/22-04/30 BNW 319']\"),\n",
       " ('Catherine J.  Andersen', 'Spring2019', 'General Biology II PLG', '02', 'BI 0171P', \"['T 0400pm-0450pm 01/22-04/30 BNW 319']\"),\n",
       " ('Catherine J.  Andersen', 'Spring2019', 'General Biology II PLG', '03', 'BI 0171P', \"['T 0500pm-0550pm 01/22-04/30 BNW 319']\"),\n",
       " ('Catherine J.  Andersen', 'Spring2019', 'General Biology II PLG', '04', 'BI 0171P', \"['T 0600pm-0650pm 01/22-04/30 BNW 319']\"),\n",
       " ('Catherine J.  Andersen', 'Spring2019', 'General Biology II PLG', '05', 'BI 0171P', \"['W 0300pm-0350pm 01/22-04/30 BNW 319']\"),\n",
       " ('Catherine J.  Andersen', 'Spring2019', 'General Biology II PLG', '06', 'BI 0171P', \"['W 0400pm-0450pm 01/22-04/30 BNW 319']\"),\n",
       " ('Catherine J.  Andersen', 'Spring2019', 'General Biology II PLG', '07', 'BI 0171P', \"['W 0500pm-0550pm 01/22-04/30 BNW 319']\"),\n",
       " ('Catherine J.  Andersen', 'Spring2019', 'General Biology II PLG', '08', 'BI 0171P', \"['W 0600pm-0650pm 01/22-04/30 BNW 319']\"),\n",
       " ('Catherine J.  Andersen', 'Spring2019', 'General Biology II PLG', '09', 'BI 0171P', \"['R 0300pm-0350pm 01/22-04/30 BNW 319']\"),\n",
       " ('Catherine J.  Andersen', 'Spring2019', 'General Biology II PLG', '10', 'BI 0171P', \"['R 0400pm-0450pm 01/22-04/30 BNW 319']\"),\n",
       " ('Catherine J.  Andersen', 'Spring2019', 'General Biology II PLG', '11', 'BI 0171P', \"['R 0500pm-0550pm 01/22-04/30 BNW 319']\")]"
      ]
     },
     "execution_count": 136,
     "metadata": {},
     "output_type": "execute_result"
    }
   ],
   "source": [
    "%%sql\n",
    "SELECT DISTINCT Name,Term,Title,Section,CatalogID,TimeCodes\n",
    "    \n",
    "FROM CATALOG_DIMENSION\n",
    "    JOIN FACT_TABLE USING(CourseID)\n",
    "    JOIN COURSE_DIMENSION USING(CourseOfferingID)\n",
    "    JOIN INSTRUCTOR_DIMENSION USING(InstructorID)\n",
    "    JOIN TIME_DIMENSION USING(CourseMeetingID)\n",
    "WHERE CatalogID LIke 'BI 0171P' AND Term = 'Spring2019'\n",
    "ORDER BY ProgramName"
   ]
  }
 ],
 "metadata": {
  "kernelspec": {
   "display_name": "Python 3",
   "language": "python",
   "name": "python3"
  },
  "language_info": {
   "codemirror_mode": {
    "name": "ipython",
    "version": 3
   },
   "file_extension": ".py",
   "mimetype": "text/x-python",
   "name": "python",
   "nbconvert_exporter": "python",
   "pygments_lexer": "ipython3",
   "version": "3.6.7"
  }
 },
 "nbformat": 4,
 "nbformat_minor": 4
}
