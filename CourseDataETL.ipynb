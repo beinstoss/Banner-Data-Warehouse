{
 "cells": [
  {
   "cell_type": "markdown",
   "metadata": {},
   "source": [
    "## 1. Import modules\n",
    "\n",
    "- %load_ext sql imports \"sql magic\" that allows us to use write sql code.\n",
    "\n",
    "- Pandas allows us to leverage python code to simplify the \"extract\" step of our ETL.\n",
    "\n",
    "- sqlite3 allows us to establish a connection with our database in order to leverage the use of python code.\n"
   ]
  },
  {
   "cell_type": "code",
   "execution_count": 1,
   "metadata": {},
   "outputs": [],
   "source": [
    "%load_ext sql\n",
    "import pandas as pd\n",
    "import sqlite3 as sql"
   ]
  },
  {
   "cell_type": "markdown",
   "metadata": {},
   "source": [
    "## 2. Create database\n",
    "\n",
    "- Use sql to create 'CourseData.db'.\n",
    "\n",
    "- Create a python variable called 'conn' to interact with our database using python code. \n"
   ]
  },
  {
   "cell_type": "code",
   "execution_count": 2,
   "metadata": {},
   "outputs": [],
   "source": [
    "%sql sqlite:///CourseData.db\n",
    "conn = sql.connect('CourseData.db')"
   ]
  },
  {
   "cell_type": "markdown",
   "metadata": {},
   "source": [
    "![Team %%sql Project ERD](CourseDataERD.png)"
   ]
  },
  {
   "cell_type": "markdown",
   "metadata": {},
   "source": [
    "## 3. Create tables matching ERD infrastructure\n",
    "\n",
    "- Create to match the CourseDataERD schema.\n",
    "\n",
    "- Ensure there are no truncation issues (Dropping tables before creating).\n"
   ]
  },
  {
   "cell_type": "code",
   "execution_count": 3,
   "metadata": {},
   "outputs": [
    {
     "name": "stdout",
     "output_type": "stream",
     "text": [
      " * sqlite:///CourseData.db\n",
      "Done.\n",
      "Done.\n",
      "Done.\n",
      "Done.\n",
      "Done.\n",
      "Done.\n",
      "Done.\n",
      "Done.\n",
      "Done.\n",
      "Done.\n",
      "Done.\n",
      "Done.\n",
      "Done.\n",
      "Done.\n",
      "Done.\n",
      "Done.\n",
      "Done.\n",
      "7 rows affected.\n"
     ]
    },
    {
     "data": {
      "text/plain": [
       "[]"
      ]
     },
     "execution_count": 3,
     "metadata": {},
     "output_type": "execute_result"
    }
   ],
   "source": [
    "%%sql\n",
    "\n",
    "-- Create PROGRAMS table\n",
    "DROP TABLE IF EXISTS PROGRAMS;\n",
    "CREATE TABLE PROGRAMS (\n",
    "    ProgramID INTEGER PRIMARY KEY,\n",
    "    ProgramCode TEXT NOT NULL,\n",
    "    ProgramName TEXT NOT NULL\n",
    ");\n",
    "\n",
    "-- Create CATALOG_COURSES table\n",
    "DROP TABLE IF EXISTS CATALOG_COURSES;\n",
    "CREATE TABLE CATALOG_COURSES (\n",
    "    CourseID INTEGER PRIMARY KEY,\n",
    "    CatalogYear TEXT NOT NULL,\n",
    "    CatalogID TEXT NOT NULL,\n",
    "    ProgramID INTEGER,\n",
    "    CourseTitle TEXT NOT NULL,\n",
    "    Credits TEXT NOT NULL,\n",
    "    Prereqs TEXT,\n",
    "    Coreqs TEXT,\n",
    "    Fees TEXT,\n",
    "    Attributes TEXT,\n",
    "    Description TEXT\n",
    ");\n",
    "CREATE INDEX index_catalog_courses_alt_key on CATALOG_COURSES(CatalogYear,CatalogID);\n",
    "\n",
    "-- Create COURSE_INSTRUCTORS table\n",
    "DROP TABLE IF EXISTS COURSE_INSTRUCTORS;\n",
    "CREATE TABLE COURSE_INSTRUCTORS (\n",
    "    InstructorID INTEGER PRIMARY KEY,\n",
    "    Name TEXT NOT NULL\n",
    ");\n",
    "CREATE INDEX index_course_instructors_alt_key on COURSE_INSTRUCTORS(Name);\n",
    "\n",
    "-- Course COURSE_OFFERINGS table\n",
    "DROP TABLE IF EXISTS COURSE_OFFERINGS;\n",
    "CREATE TABLE COURSE_OFFERINGS (\n",
    "    CourseOfferingID INTEGER PRIMARY KEY,\n",
    "    CourseID INTEGER,\n",
    "    CatalogID TEXT NOT NULL,\n",
    "    Term TEXT NOT NULL,\n",
    "    CRN INTEGER NOT NULL,\n",
    "    Section TEXT NOT NULL,\n",
    "    Credits REAL,\n",
    "    Title TEXT NOT NULL,\n",
    "    Timecodes TEXT,\n",
    "    PrimaryInstructorID INTEGER,\n",
    "    Capacity INTEGER NOT NULL,\n",
    "    Actual INTEGER NOT NULL,\n",
    "    Remaining INTEGER NOT NULL\n",
    ");\n",
    "CREATE INDEX index_course_offerings_alt_key on COURSE_OFFERINGS(Term,CatalogID,Section);\n",
    "\n",
    "-- Create COURSE_LOCATIONS table\n",
    "DROP TABLE IF EXISTS COURSE_LOCATIONS;\n",
    "CREATE TABLE COURSE_LOCATIONS (\n",
    "    LocationID INTEGER PRIMARY KEY,\n",
    "    LocationCode TEXT NOT NULL\n",
    ");\n",
    "\n",
    "\n",
    "-- Create COURSE_MEETINGS table\n",
    "DROP TABLE IF EXISTS COURSE_MEETINGS;\n",
    "CREATE TABLE COURSE_MEETINGS (\n",
    "    CourseMeetingID INTEGER PRIMARY KEY,\n",
    "    CourseOfferingID INTEGER NOT NULL,\n",
    "    LocationID INTEGER NOT NULL,\n",
    "    StartDateTime TEXT NOT NULL,\n",
    "    EndDateTime TEXT NOT NULL\n",
    ");\n",
    "-- Conversion table for con\n",
    "-- Create TERM_TO_CATALOG_YEAR table\n",
    "DROP TABLE IF EXISTS TERM_TO_CATALOG_YEAR;\n",
    "CREATE TABLE TERM_TO_CATALOG_YEAR (\n",
    "    CatalogYear TEXT NOT NULL,\n",
    "    Term TEXT NOT NULL\n",
    ");\n",
    "\n",
    "INSERT INTO TERM_TO_CATALOG_YEAR (Term, CatalogYear) VALUES \n",
    "('Fall2017','2017_2018'),('Winter2018','2017_2018'),('Spring2018','2017_2018'),('Summer2018','2017_2018'),('Fall2018','2018_2019'),\n",
    "('Winter2019','2018_2019'),('Spring2019','2018_2019');"
   ]
  },
  {
   "cell_type": "markdown",
   "metadata": {},
   "source": [
    "## 4. Delete & Drop 'IMPORT' tables\n",
    "\n",
    "- This enables us to re-create our database from scratch if needed, deleting and removing any populated 'IMPORT' tables from prior runs.\n"
   ]
  },
  {
   "cell_type": "code",
   "execution_count": 4,
   "metadata": {},
   "outputs": [
    {
     "name": "stdout",
     "output_type": "stream",
     "text": [
      " * sqlite:///CourseData.db\n",
      "(sqlite3.OperationalError) no such table: IMPORT_CATALOG_COURSES\n",
      "[SQL: DELETE FROM IMPORT_CATALOG_COURSES;]\n",
      "(Background on this error at: http://sqlalche.me/e/e3q8)\n"
     ]
    }
   ],
   "source": [
    "%%sql\n",
    "DELETE FROM IMPORT_CATALOG_COURSES;\n",
    "DELETE FROM IMPORT_COURSE_OFFERINGS;\n",
    "DELETE FROM IMPORT_COURSE_MEETINGS;\n",
    "DROP TABLE IF EXISTS IMPORT_CATALOG_COURSES;\n",
    "DROP TABLE IF EXISTS IMPORT_COURSE_OFFERINGS;\n",
    "DROP TABLE IF EXISTS IMPORT_COURSE_MEETINGS;"
   ]
  },
  {
   "cell_type": "markdown",
   "metadata": {},
   "source": [
    "## 5. Use loops to populate 'IMPORT' tables\n",
    "\n",
    "- __IMPORT_CATALOG_COURSES__ uses a list with the available catalog years to loop through the available course catalog csv files and upload them to our sql table.\n",
    "\n",
    "- __IMPORT_COURSE_OFFERINGS__ uses a list of semesters (also known as 'Term') to loop through the available course offerings csv files and upload them to our sql table.\n",
    "\n",
    "- __IMPORT_COURSE_MEETINGS__ uses the same list of semesters to loop through the course meetings csv files and upload them to our sql table.\n"
   ]
  },
  {
   "cell_type": "code",
   "execution_count": 5,
   "metadata": {},
   "outputs": [],
   "source": [
    "catalog_years = ['2017_2018', '2018_2019']\n",
    "\n",
    "for catalog_year in catalog_years:\n",
    "    file_path = 'SourceData/Catalogs/CourseCatalog' + catalog_year + '.csv'\n",
    "    df_catalogs = pd.read_csv(file_path)\n",
    "    df_catalogs['cat_year'] = catalog_year # Add column with 'catalog_year' into table\n",
    "    df_catalogs.to_sql('IMPORT_CATALOG_COURSES',conn,if_exists='append',index=False)\n",
    "    \n",
    "semesters = ['Fall2014','Winter2015','Spring2015','Summer2015','Fall2015','Winter2016',\n",
    "             'Spring2016','Summer2016','Fall2016','Winter2017','Spring2017','SpringBreak2017',\n",
    "             'Summer2017','Fall2017','Winter2018','Spring2018','Summer2018','Fall2018',\n",
    "             'Spring2019']\n",
    "\n",
    "for semester in semesters:\n",
    "    file_path = 'SourceData/' + semester + '/courses.csv'\n",
    "    df_course_offerings = pd.read_csv(file_path)\n",
    "    df_course_offerings.to_sql('IMPORT_COURSE_OFFERINGS',conn,if_exists='append',index=False)\n",
    "    \n",
    "    file_path = 'SourceData/' + semester + '/course_meetings.csv'\n",
    "    df_course_meetings = pd.read_csv(file_path)\n",
    "    df_course_meetings.to_sql('IMPORT_COURSE_MEETINGS',conn,if_exists='append',index=False)\n",
    "    "
   ]
  },
  {
   "cell_type": "markdown",
   "metadata": {},
   "source": [
    "## 6. Check for duplicate data\n",
    "- Use sql queries to compare Raw vs. Distinct counts of data within each 'IMPORT' table."
   ]
  },
  {
   "cell_type": "code",
   "execution_count": 6,
   "metadata": {},
   "outputs": [
    {
     "name": "stdout",
     "output_type": "stream",
     "text": [
      " * sqlite:///CourseData.db\n",
      "Done.\n"
     ]
    },
    {
     "data": {
      "text/html": [
       "<table>\n",
       "    <tr>\n",
       "        <th>Raw Count</th>\n",
       "        <th>Distinct Count</th>\n",
       "    </tr>\n",
       "    <tr>\n",
       "        <td>4440</td>\n",
       "        <td>4440</td>\n",
       "    </tr>\n",
       "</table>"
      ],
      "text/plain": [
       "[(4440, 4440)]"
      ]
     },
     "execution_count": 6,
     "metadata": {},
     "output_type": "execute_result"
    }
   ],
   "source": [
    "%%sql\n",
    "-- Check for duplicate values\n",
    "SELECT \n",
    "    (SELECT Count(*) FROM IMPORT_CATALOG_COURSES) as 'Raw Count',\n",
    "    (SELECT Count(*) FROM (SELECT DISTINCT * FROM IMPORT_CATALOG_COURSES)) as 'Distinct Count';"
   ]
  },
  {
   "cell_type": "code",
   "execution_count": 7,
   "metadata": {},
   "outputs": [
    {
     "name": "stdout",
     "output_type": "stream",
     "text": [
      " * sqlite:///CourseData.db\n",
      "Done.\n"
     ]
    },
    {
     "data": {
      "text/html": [
       "<table>\n",
       "    <tr>\n",
       "        <th>Raw Count</th>\n",
       "        <th>Distinct Count</th>\n",
       "    </tr>\n",
       "    <tr>\n",
       "        <td>15937</td>\n",
       "        <td>15937</td>\n",
       "    </tr>\n",
       "</table>"
      ],
      "text/plain": [
       "[(15937, 15937)]"
      ]
     },
     "execution_count": 7,
     "metadata": {},
     "output_type": "execute_result"
    }
   ],
   "source": [
    "%%sql\n",
    "-- Check for duplicate values\n",
    "SELECT \n",
    "    (SELECT Count(*) FROM IMPORT_COURSE_OFFERINGS) as 'Raw Count',\n",
    "    (SELECT Count(*) FROM (SELECT DISTINCT * FROM IMPORT_COURSE_OFFERINGS)) as 'Distinct Count';"
   ]
  },
  {
   "cell_type": "code",
   "execution_count": 8,
   "metadata": {},
   "outputs": [
    {
     "name": "stdout",
     "output_type": "stream",
     "text": [
      " * sqlite:///CourseData.db\n",
      "Done.\n"
     ]
    },
    {
     "data": {
      "text/html": [
       "<table>\n",
       "    <tr>\n",
       "        <th>Raw Count</th>\n",
       "        <th>Distinct Count</th>\n",
       "    </tr>\n",
       "    <tr>\n",
       "        <td>284907</td>\n",
       "        <td>284847</td>\n",
       "    </tr>\n",
       "</table>"
      ],
      "text/plain": [
       "[(284907, 284847)]"
      ]
     },
     "execution_count": 8,
     "metadata": {},
     "output_type": "execute_result"
    }
   ],
   "source": [
    "%%sql\n",
    "-- Check for duplicate values\n",
    "SELECT \n",
    "    (SELECT Count(*) FROM IMPORT_COURSE_MEETINGS) as 'Raw Count',\n",
    "    (SELECT Count(*) FROM (SELECT DISTINCT * FROM IMPORT_COURSE_MEETINGS)) as 'Distinct Count';"
   ]
  },
  {
   "cell_type": "markdown",
   "metadata": {},
   "source": [
    "#### Duplicates identified within IMPORT_COURSE_MEETINGS table.\n",
    "\n",
    "- The below query calculates the total number of duplicates as 60.\n",
    "\n",
    "- With this knowledge, we now know that we must load the data as 'Distinct' into our database when retrieving fields from the IMPORT_COURSE_MEETINGS table.\n"
   ]
  },
  {
   "cell_type": "code",
   "execution_count": 9,
   "metadata": {},
   "outputs": [
    {
     "name": "stdout",
     "output_type": "stream",
     "text": [
      " * sqlite:///CourseData.db\n",
      "Done.\n"
     ]
    },
    {
     "data": {
      "text/html": [
       "<table>\n",
       "    <tr>\n",
       "        <th>TotalDuplicateValues</th>\n",
       "    </tr>\n",
       "    <tr>\n",
       "        <td>60</td>\n",
       "    </tr>\n",
       "</table>"
      ],
      "text/plain": [
       "[(60,)]"
      ]
     },
     "execution_count": 9,
     "metadata": {},
     "output_type": "execute_result"
    }
   ],
   "source": [
    "%%sql\n",
    "SELECT COUNT(*) - (SELECT COUNT(*) FROM (SELECT DISTINCT * FROM IMPORT_COURSE_MEETINGS)) AS 'TotalDuplicateValues'\n",
    "FROM IMPORT_COURSE_MEETINGS;"
   ]
  },
  {
   "cell_type": "markdown",
   "metadata": {},
   "source": [
    "## 7. Populate ERD tables\n",
    "\n",
    "- Populate the tables that were created mirroring our ERD using the 'IMPORT' tables.\n",
    "\n",
    "- Ensure there are no truncation issues by deleting the data from the tables prior to populating them."
   ]
  },
  {
   "cell_type": "code",
   "execution_count": 10,
   "metadata": {},
   "outputs": [
    {
     "name": "stdout",
     "output_type": "stream",
     "text": [
      " * sqlite:///CourseData.db\n",
      "0 rows affected.\n",
      "1095 rows affected.\n"
     ]
    },
    {
     "data": {
      "text/plain": [
       "[]"
      ]
     },
     "execution_count": 10,
     "metadata": {},
     "output_type": "execute_result"
    }
   ],
   "source": [
    "%%sql\n",
    "DELETE FROM COURSE_INSTRUCTORS;\n",
    "\n",
    "INSERT INTO COURSE_INSTRUCTORS (Name)\n",
    "SELECT DISTINCT primary_instructor\n",
    "FROM IMPORT_COURSE_OFFERINGS\n",
    "WHERE primary_instructor <> 'TBA' AND primary_instructor NOT LIKE '%/%';"
   ]
  },
  {
   "cell_type": "code",
   "execution_count": 11,
   "metadata": {},
   "outputs": [
    {
     "name": "stdout",
     "output_type": "stream",
     "text": [
      " * sqlite:///CourseData.db\n",
      "0 rows affected.\n",
      "83 rows affected.\n"
     ]
    },
    {
     "data": {
      "text/plain": [
       "[]"
      ]
     },
     "execution_count": 11,
     "metadata": {},
     "output_type": "execute_result"
    }
   ],
   "source": [
    "%%sql\n",
    "DELETE FROM PROGRAMS;\n",
    "\n",
    "INSERT INTO PROGRAMS (ProgramCode,ProgramName)\n",
    "SELECT DISTINCT program_code,program_name \n",
    "FROM IMPORT_CATALOG_COURSES\n",
    "ORDER BY program_code;"
   ]
  },
  {
   "cell_type": "code",
   "execution_count": 12,
   "metadata": {},
   "outputs": [
    {
     "name": "stdout",
     "output_type": "stream",
     "text": [
      " * sqlite:///CourseData.db\n",
      "0 rows affected.\n",
      "4440 rows affected.\n"
     ]
    },
    {
     "data": {
      "text/plain": [
       "[]"
      ]
     },
     "execution_count": 12,
     "metadata": {},
     "output_type": "execute_result"
    }
   ],
   "source": [
    "%%sql\n",
    "DELETE FROM CATALOG_COURSES;\n",
    "\n",
    "INSERT INTO CATALOG_COURSES (CatalogYear,ProgramID,CatalogID,CourseTitle,Credits,Prereqs,Coreqs,Fees,Attributes,Description)\n",
    "SELECT DISTINCT cat_year, ProgramID,catalog_id,course_title,credits,prereqs,coreqs,fees,attributes,description\n",
    "FROM IMPORT_CATALOG_COURSES \n",
    "    JOIN PROGRAMS ON (program_code = ProgramCode);"
   ]
  },
  {
   "cell_type": "code",
   "execution_count": 13,
   "metadata": {},
   "outputs": [
    {
     "name": "stdout",
     "output_type": "stream",
     "text": [
      " * sqlite:///CourseData.db\n",
      "0 rows affected.\n",
      "15937 rows affected.\n"
     ]
    },
    {
     "data": {
      "text/plain": [
       "[]"
      ]
     },
     "execution_count": 13,
     "metadata": {},
     "output_type": "execute_result"
    }
   ],
   "source": [
    "%%sql\n",
    "DELETE FROM COURSE_OFFERINGS;\n",
    "\n",
    "INSERT INTO COURSE_OFFERINGS (CourseID,Term,CRN,CatalogID,Section,Credits,Title,Timecodes,PrimaryInstructorID,Capacity, Actual, Remaining)\n",
    "SELECT DISTINCT CourseID,term,crn,catalog_id,section,IMPORT_COURSE_OFFERINGS.credits,title,timecodes,InstructorID,cap,act,rem \n",
    "FROM IMPORT_COURSE_OFFERINGS \n",
    "    LEFT JOIN COURSE_INSTRUCTORS ON (primary_instructor=COURSE_INSTRUCTORS.Name)\n",
    "    LEFT JOIN TERM_TO_CATALOG_YEAR USING (Term)\n",
    "    LEFT JOIN CATALOG_COURSES ON (catalog_id = CatalogID AND CATALOG_COURSES.CatalogYear = TERM_TO_CATALOG_YEAR.CatalogYear)\n",
    ";"
   ]
  },
  {
   "cell_type": "code",
   "execution_count": 14,
   "metadata": {},
   "outputs": [
    {
     "name": "stdout",
     "output_type": "stream",
     "text": [
      " * sqlite:///CourseData.db\n",
      "0 rows affected.\n",
      "207 rows affected.\n"
     ]
    },
    {
     "data": {
      "text/plain": [
       "[]"
      ]
     },
     "execution_count": 14,
     "metadata": {},
     "output_type": "execute_result"
    }
   ],
   "source": [
    "%%sql \n",
    "DELETE FROM COURSE_LOCATIONS;\n",
    "\n",
    "INSERT INTO COURSE_LOCATIONS (LocationCode)\n",
    "SELECT DISTINCT Location \n",
    "FROM IMPORT_COURSE_MEETINGS\n",
    "ORDER BY Location"
   ]
  },
  {
   "cell_type": "code",
   "execution_count": 15,
   "metadata": {},
   "outputs": [
    {
     "name": "stdout",
     "output_type": "stream",
     "text": [
      " * sqlite:///CourseData.db\n",
      "0 rows affected.\n",
      "284847 rows affected.\n"
     ]
    },
    {
     "data": {
      "text/plain": [
       "[]"
      ]
     },
     "execution_count": 15,
     "metadata": {},
     "output_type": "execute_result"
    }
   ],
   "source": [
    "%%sql\n",
    "DELETE FROM COURSE_MEETINGS;\n",
    "\n",
    "INSERT INTO COURSE_MEETINGS (CourseOfferingID,LocationID,StartDateTime,EndDateTime)\n",
    "SELECT DISTINCT COURSE_OFFERINGS.CourseOfferingID, LocationID,start,end\n",
    "FROM IMPORT_COURSE_MEETINGS \n",
    "    JOIN COURSE_OFFERINGS USING (Term,CRN)\n",
    "    LEFT JOIN COURSE_LOCATIONS ON (IMPORT_COURSE_MEETINGS.Location = COURSE_LOCATIONS.LocationCode);"
   ]
  },
  {
   "cell_type": "markdown",
   "metadata": {},
   "source": [
    "## 9. Clear storage space\n",
    "\n",
    "- Delete 'IMPORT' tables to recover storage space."
   ]
  },
  {
   "cell_type": "code",
   "execution_count": 16,
   "metadata": {},
   "outputs": [
    {
     "name": "stdout",
     "output_type": "stream",
     "text": [
      " * sqlite:///CourseData.db\n",
      "4440 rows affected.\n",
      "15937 rows affected.\n",
      "284907 rows affected.\n",
      "Done.\n",
      "Done.\n",
      "Done.\n",
      "Done.\n"
     ]
    },
    {
     "data": {
      "text/plain": [
       "[]"
      ]
     },
     "execution_count": 16,
     "metadata": {},
     "output_type": "execute_result"
    }
   ],
   "source": [
    "%%sql\n",
    "\n",
    "DELETE FROM IMPORT_CATALOG_COURSES;\n",
    "DELETE FROM IMPORT_COURSE_OFFERINGS;\n",
    "DELETE FROM IMPORT_COURSE_MEETINGS;\n",
    "\n",
    "DROP TABLE IF EXISTS IMPORT_CATALOG_COURSES;\n",
    "DROP TABLE IF EXISTS IMPORT_COURSE_OFFERINGS;\n",
    "DROP TABLE IF EXISTS IMPORT_COURSE_MEETINGS;\n",
    "\n",
    "vacuum;"
   ]
  }
 ],
 "metadata": {
  "kernelspec": {
   "display_name": "Python 3",
   "language": "python",
   "name": "python3"
  },
  "language_info": {
   "codemirror_mode": {
    "name": "ipython",
    "version": 3
   },
   "file_extension": ".py",
   "mimetype": "text/x-python",
   "name": "python",
   "nbconvert_exporter": "python",
   "pygments_lexer": "ipython3",
   "version": "3.6.7"
  }
 },
 "nbformat": 4,
 "nbformat_minor": 4
}
