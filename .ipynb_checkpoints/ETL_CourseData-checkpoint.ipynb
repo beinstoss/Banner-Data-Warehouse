{
 "cells": [
  {
   "cell_type": "markdown",
   "metadata": {},
   "source": [
    "# ETL for CourseData.db\n",
    "A step-by-step walkthrough\n",
    "\n",
    "## Preliminaries: Extensions, Imports, and Database Connections"
   ]
  },
  {
   "cell_type": "code",
   "execution_count": 1,
   "metadata": {},
   "outputs": [],
   "source": [
    "%load_ext sql\n",
    "import pandas as pd\n",
    "import sqlite3"
   ]
  },
  {
   "cell_type": "code",
   "execution_count": 2,
   "metadata": {},
   "outputs": [],
   "source": [
    "%sql sqlite:///CourseData.db\n",
    "conn = sqlite3.connect('CourseData.db')"
   ]
  },
  {
   "cell_type": "code",
   "execution_count": 3,
   "metadata": {},
   "outputs": [
    {
     "name": "stdout",
     "output_type": "stream",
     "text": [
      " * sqlite:///CourseData.db\n",
      "Done.\n",
      "Done.\n",
      "Done.\n"
     ]
    },
    {
     "data": {
      "text/plain": [
       "[]"
      ]
     },
     "execution_count": 3,
     "metadata": {},
     "output_type": "execute_result"
    }
   ],
   "source": [
    "%%sql\n",
    "DROP TABLE IF EXISTS import_catalog_courses;\n",
    "DROP TABLE IF EXISTS import_course_offerings;\n",
    "DROP TABLE IF EXISTS import_course_meetings;"
   ]
  },
  {
   "cell_type": "markdown",
   "metadata": {},
   "source": [
    "## 1. Create Tables from ERD"
   ]
  },
  {
   "cell_type": "code",
   "execution_count": 4,
   "metadata": {},
   "outputs": [
    {
     "name": "stdout",
     "output_type": "stream",
     "text": [
      " * sqlite:///CourseData.db\n",
      "Done.\n",
      "Done.\n",
      "Done.\n",
      "Done.\n",
      "Done.\n",
      "Done.\n",
      "Done.\n",
      "Done.\n",
      "Done.\n",
      "Done.\n",
      "7 rows affected.\n"
     ]
    },
    {
     "data": {
      "text/plain": [
       "[]"
      ]
     },
     "execution_count": 4,
     "metadata": {},
     "output_type": "execute_result"
    }
   ],
   "source": [
    "%%sql\n",
    "\n",
    "-- Program table\n",
    "CREATE TABLE PROGRAMS (\n",
    "    ProgramID INTEGER PRIMARY KEY,\n",
    "    ProgramCode TEXT NOT NULL,\n",
    "    ProgramName TEXT NOT NULL\n",
    ");\n",
    "\n",
    "-- Course Catalog table\n",
    "CREATE TABLE CATALOG_COURSES (\n",
    "    CourseID INTEGER PRIMARY KEY,\n",
    "    CatalogYear TEXT NOT NULL,\n",
    "    CatalogID TEXT NOT NULL,\n",
    "    ProgramID INTEGER,\n",
    "    CourseTitle TEXT NOT NULL,\n",
    "    Credits TEXT NOT NULL,\n",
    "    Prereqs TEXT,\n",
    "    Coreqs TEXT,\n",
    "    Fees TEXT,\n",
    "    Attributes TEXT,\n",
    "    Description TEXT\n",
    ");\n",
    "CREATE INDEX ix_catalog_courses_alt_key on CATALOG_COURSES(CatalogYear,CatalogID);\n",
    "\n",
    "-- Instructors table\n",
    "CREATE TABLE INSTRUCTORS (\n",
    "    InstructorID INTEGER PRIMARY KEY,\n",
    "    Name TEXT NOT NULL\n",
    ");\n",
    "CREATE INDEX ix_instructors_name on INSTRUCTORS(Name);\n",
    "\n",
    "-- Course Offerings table\n",
    "CREATE TABLE COURSE_OFFERINGS (\n",
    "    CourseOfferingID INTEGER PRIMARY KEY,\n",
    "    CourseID INTEGER,\n",
    "    CatalogID TEXT NOT NULL,\n",
    "    Term TEXT NOT NULL,\n",
    "    CRN INTEGER NOT NULL,\n",
    "    Section TEXT NOT NULL,\n",
    "    Credits REAL,\n",
    "    Title TEXT NOT NULL,\n",
    "    Timecodes TEXT,\n",
    "    PrimaryInstructorID INTEGER,\n",
    "    Capacity INTEGER NOT NULL,\n",
    "    Actual INTEGER NOT NULL,\n",
    "    Remaining INTEGER NOT NULL\n",
    ");\n",
    "CREATE INDEX ix_course_offerings_alt_key on COURSE_OFFERINGS(Term,CatalogID,Section);\n",
    "\n",
    "-- Locations table\n",
    "CREATE TABLE LOCATIONS (\n",
    "    LocationID INTEGER PRIMARY KEY,\n",
    "    LocationCode TEXT NOT NULL\n",
    ");\n",
    "\n",
    "-- Course Meetings table\n",
    "CREATE TABLE COURSE_MEETINGS (\n",
    "    CourseMeetingID INTEGER PRIMARY KEY,\n",
    "    CourseOfferingID INTEGER NOT NULL,\n",
    "    LocationID INTEGER NOT NULL,\n",
    "    StartDateTime TEXT NOT NULL,\n",
    "    EndDateTime TEXT NOT NULL\n",
    ");\n",
    "\n",
    "-- A conversion table for matching the term to the corresponding catalog year\n",
    "-- Catalogs are not available for the first several years\n",
    "CREATE TABLE TERM_CATALOG_YEAR (\n",
    "    CatalogYear TEXT NOT NULL,\n",
    "    Term TEXT NOT NULL\n",
    ");\n",
    "\n",
    "INSERT INTO TERM_CATALOG_YEAR (Term, CatalogYear) VALUES \n",
    "('Fall2017','2017-2018'),('Winter2018','2017-2018'),('Spring2018','2017-2018'),('Summer2018','2017-2018'),('Fall2018','2018-2019'),\n",
    "('Winter2019','2018-2019'),('Spring2019','2018-2019');"
   ]
  },
  {
   "cell_type": "markdown",
   "metadata": {},
   "source": [
    "## 2. Extract data from CSV files\n",
    "_The following code uses Python to automate the dirty work that you might do in `sqlite3`._"
   ]
  },
  {
   "cell_type": "code",
   "execution_count": 5,
   "metadata": {},
   "outputs": [],
   "source": [
    "# Catalog Data\n",
    "catalog_years = ['2017_2018', '2018_2019']\n",
    "\n",
    "for cat_year in catalog_years:\n",
    "    filepath = 'SourceData/Catalogs/CourseCatalog'+cat_year+'.csv'\n",
    "    data = pd.read_csv(filepath)\n",
    "    data['cat_year'] = cat_year\n",
    "    data.to_sql('IMPORT_CATALOG_COURSES',conn,if_exists='append',index=False)\n"
   ]
  },
  {
   "cell_type": "code",
   "execution_count": 6,
   "metadata": {},
   "outputs": [],
   "source": [
    "# Course Offering and Course Meeting Data\n",
    "terms = ['Fall2014','Fall2015','Fall2016','Fall2017','Fall2018',\n",
    "         'Spring2015','Spring2016','Spring2017','Spring2018','Spring2019',\n",
    "         'SpringBreak2017',\n",
    "         'Summer2015','Summer2016','Summer2017','Summer2018',\n",
    "         'Winter2015','Winter2016','Winter2017','Winter2018']\n",
    "\n",
    "for term in terms:\n",
    "    filepath = 'SourceData/'+term+'/courses.csv'\n",
    "    data = pd.read_csv(filepath)\n",
    "    data.to_sql('IMPORT_COURSE_OFFERINGS',conn,if_exists='append',index=False) \n",
    "    \n",
    "    filepath = 'SourceData/'+term+'/course_meetings.csv'\n",
    "    data = pd.read_csv(filepath)\n",
    "    data.to_sql('IMPORT_COURSE_MEETINGS',conn,if_exists='append',index=False)"
   ]
  },
  {
   "cell_type": "markdown",
   "metadata": {},
   "source": [
    "# 3 & 4. Transform and Load Data Into ERD Tables"
   ]
  },
  {
   "cell_type": "code",
   "execution_count": 7,
   "metadata": {},
   "outputs": [
    {
     "name": "stdout",
     "output_type": "stream",
     "text": [
      " * sqlite:///CourseData.db\n",
      "0 rows affected.\n",
      "1095 rows affected.\n"
     ]
    },
    {
     "data": {
      "text/plain": [
       "[]"
      ]
     },
     "execution_count": 7,
     "metadata": {},
     "output_type": "execute_result"
    }
   ],
   "source": [
    "%%sql\n",
    "DELETE FROM INSTRUCTORS;\n",
    "\n",
    "INSERT INTO INSTRUCTORS (Name)\n",
    "SELECT DISTINCT primary_instructor \n",
    "FROM import_course_offerings \n",
    "WHERE primary_instructor <> 'TBA' AND primary_instructor NOT LIKE '%/%';"
   ]
  },
  {
   "cell_type": "code",
   "execution_count": 14,
   "metadata": {},
   "outputs": [
    {
     "name": "stdout",
     "output_type": "stream",
     "text": [
      " * sqlite:///CourseData.db\n",
      "Done.\n"
     ]
    },
    {
     "data": {
      "text/html": [
       "<table>\n",
       "    <tr>\n",
       "        <th>InstructorID</th>\n",
       "        <th>Name</th>\n",
       "    </tr>\n",
       "    <tr>\n",
       "        <td>268</td>\n",
       "        <td>Laura   Nash</td>\n",
       "    </tr>\n",
       "</table>"
      ],
      "text/plain": [
       "[(268, 'Laura   Nash')]"
      ]
     },
     "execution_count": 14,
     "metadata": {},
     "output_type": "execute_result"
    }
   ],
   "source": [
    "%%sql\n",
    "SELECT * FROM INSTRUCTORS WHERE Name like \"%Nash%\";"
   ]
  },
  {
   "cell_type": "code",
   "execution_count": 8,
   "metadata": {},
   "outputs": [
    {
     "name": "stdout",
     "output_type": "stream",
     "text": [
      " * sqlite:///CourseData.db\n",
      "0 rows affected.\n",
      "83 rows affected.\n"
     ]
    },
    {
     "data": {
      "text/plain": [
       "[]"
      ]
     },
     "execution_count": 8,
     "metadata": {},
     "output_type": "execute_result"
    }
   ],
   "source": [
    "%%sql\n",
    "DELETE FROM PROGRAMS;\n",
    "\n",
    "INSERT INTO PROGRAMS (ProgramCode,ProgramName)\n",
    "SELECT DISTINCT program_code,program_name \n",
    "FROM IMPORT_CATALOG_COURSES\n",
    "ORDER BY program_code;"
   ]
  },
  {
   "cell_type": "code",
   "execution_count": 9,
   "metadata": {},
   "outputs": [
    {
     "name": "stdout",
     "output_type": "stream",
     "text": [
      " * sqlite:///CourseData.db\n",
      "0 rows affected.\n",
      "4440 rows affected.\n"
     ]
    },
    {
     "data": {
      "text/plain": [
       "[]"
      ]
     },
     "execution_count": 9,
     "metadata": {},
     "output_type": "execute_result"
    }
   ],
   "source": [
    "%%sql \n",
    "DELETE FROM CATALOG_COURSES;\n",
    "\n",
    "INSERT INTO CATALOG_COURSES (CatalogYear,ProgramID,CatalogID,CourseTitle,Credits,Prereqs,Coreqs,Fees,Attributes,Description)\n",
    "SELECT DISTINCT cat_year, ProgramID,catalog_id,course_title,credits,prereqs,coreqs,fees,attributes,description\n",
    "FROM IMPORT_CATALOG_COURSES \n",
    "    JOIN PROGRAMS ON (program_code = ProgramCode);"
   ]
  },
  {
   "cell_type": "code",
   "execution_count": 10,
   "metadata": {},
   "outputs": [
    {
     "name": "stdout",
     "output_type": "stream",
     "text": [
      " * sqlite:///CourseData.db\n",
      "0 rows affected.\n",
      "15937 rows affected.\n"
     ]
    },
    {
     "data": {
      "text/plain": [
       "[]"
      ]
     },
     "execution_count": 10,
     "metadata": {},
     "output_type": "execute_result"
    }
   ],
   "source": [
    "%%sql\n",
    "DELETE FROM COURSE_OFFERINGS;\n",
    "\n",
    "INSERT INTO COURSE_OFFERINGS (CourseID,Term,CRN,CatalogID,Section,Credits,Title,Timecodes,PrimaryInstructorID,Capacity, Actual, Remaining)\n",
    "SELECT DISTINCT CatalogYear,term,crn,catalog_id,section,import_course_offerings.credits,title,timecodes,InstructorID,cap,act,rem \n",
    "FROM import_course_offerings \n",
    "    LEFT JOIN INSTRUCTORS ON (import_course_offerings.primary_instructor=INSTRUCTORS.Name)\n",
    "    LEFT JOIN TERM_CATALOG_YEAR USING (Term)\n",
    "    LEFT JOIN CATALOG_COURSES USING (CatalogYear);"
   ]
  },
  {
   "cell_type": "code",
   "execution_count": 11,
   "metadata": {},
   "outputs": [
    {
     "name": "stdout",
     "output_type": "stream",
     "text": [
      " * sqlite:///CourseData.db\n",
      "Done.\n"
     ]
    },
    {
     "data": {
      "text/html": [
       "<table>\n",
       "    <tr>\n",
       "        <th>CatalogID</th>\n",
       "        <th>Term</th>\n",
       "        <th>CRN</th>\n",
       "        <th>Section</th>\n",
       "        <th>Capacity</th>\n",
       "        <th>Actual</th>\n",
       "        <th>Remaining</th>\n",
       "        <th>Year</th>\n",
       "    </tr>\n",
       "    <tr>\n",
       "        <td>IS 0100</td>\n",
       "        <td>Fall2014</td>\n",
       "        <td>70369</td>\n",
       "        <td>E</td>\n",
       "        <td>25</td>\n",
       "        <td>26</td>\n",
       "        <td>-1</td>\n",
       "        <td>2014</td>\n",
       "    </tr>\n",
       "    <tr>\n",
       "        <td>IS 0135</td>\n",
       "        <td>Fall2014</td>\n",
       "        <td>73060</td>\n",
       "        <td>A</td>\n",
       "        <td>25</td>\n",
       "        <td>26</td>\n",
       "        <td>-1</td>\n",
       "        <td>2014</td>\n",
       "    </tr>\n",
       "    <tr>\n",
       "        <td>IS 0320</td>\n",
       "        <td>Fall2014</td>\n",
       "        <td>73061</td>\n",
       "        <td>A</td>\n",
       "        <td>25</td>\n",
       "        <td>16</td>\n",
       "        <td>9</td>\n",
       "        <td>2014</td>\n",
       "    </tr>\n",
       "    <tr>\n",
       "        <td>IS 0100</td>\n",
       "        <td>Fall2015</td>\n",
       "        <td>75231</td>\n",
       "        <td>E</td>\n",
       "        <td>29</td>\n",
       "        <td>28</td>\n",
       "        <td>1</td>\n",
       "        <td>2015</td>\n",
       "    </tr>\n",
       "    <tr>\n",
       "        <td>IS 0100</td>\n",
       "        <td>Fall2015</td>\n",
       "        <td>75246</td>\n",
       "        <td>F</td>\n",
       "        <td>29</td>\n",
       "        <td>28</td>\n",
       "        <td>1</td>\n",
       "        <td>2015</td>\n",
       "    </tr>\n",
       "    <tr>\n",
       "        <td>IS 0135</td>\n",
       "        <td>Fall2015</td>\n",
       "        <td>76388</td>\n",
       "        <td>A</td>\n",
       "        <td>25</td>\n",
       "        <td>21</td>\n",
       "        <td>4</td>\n",
       "        <td>2015</td>\n",
       "    </tr>\n",
       "    <tr>\n",
       "        <td>IS 0320</td>\n",
       "        <td>Fall2015</td>\n",
       "        <td>76389</td>\n",
       "        <td>A</td>\n",
       "        <td>25</td>\n",
       "        <td>13</td>\n",
       "        <td>12</td>\n",
       "        <td>2015</td>\n",
       "    </tr>\n",
       "    <tr>\n",
       "        <td>IS 0585</td>\n",
       "        <td>Spring2016</td>\n",
       "        <td>38780</td>\n",
       "        <td>01</td>\n",
       "        <td>20</td>\n",
       "        <td>15</td>\n",
       "        <td>5</td>\n",
       "        <td>2016</td>\n",
       "    </tr>\n",
       "    <tr>\n",
       "        <td>OM 0101</td>\n",
       "        <td>Spring2016</td>\n",
       "        <td>37253</td>\n",
       "        <td>B</td>\n",
       "        <td>29</td>\n",
       "        <td>28</td>\n",
       "        <td>1</td>\n",
       "        <td>2016</td>\n",
       "    </tr>\n",
       "    <tr>\n",
       "        <td>OM 0101</td>\n",
       "        <td>Spring2016</td>\n",
       "        <td>37254</td>\n",
       "        <td>C</td>\n",
       "        <td>29</td>\n",
       "        <td>29</td>\n",
       "        <td>0</td>\n",
       "        <td>2016</td>\n",
       "    </tr>\n",
       "    <tr>\n",
       "        <td>IS 0135</td>\n",
       "        <td>Fall2016</td>\n",
       "        <td>78100</td>\n",
       "        <td>01</td>\n",
       "        <td>25</td>\n",
       "        <td>15</td>\n",
       "        <td>10</td>\n",
       "        <td>2016</td>\n",
       "    </tr>\n",
       "    <tr>\n",
       "        <td>IS 0240</td>\n",
       "        <td>Fall2016</td>\n",
       "        <td>77162</td>\n",
       "        <td>01</td>\n",
       "        <td>25</td>\n",
       "        <td>23</td>\n",
       "        <td>2</td>\n",
       "        <td>2016</td>\n",
       "    </tr>\n",
       "    <tr>\n",
       "        <td>IS 0585C</td>\n",
       "        <td>Fall2016</td>\n",
       "        <td>79098</td>\n",
       "        <td>01</td>\n",
       "        <td>20</td>\n",
       "        <td>15</td>\n",
       "        <td>5</td>\n",
       "        <td>2016</td>\n",
       "    </tr>\n",
       "    <tr>\n",
       "        <td>IS 0240</td>\n",
       "        <td>Spring2017</td>\n",
       "        <td>31735</td>\n",
       "        <td>01</td>\n",
       "        <td>25</td>\n",
       "        <td>25</td>\n",
       "        <td>0</td>\n",
       "        <td>2017</td>\n",
       "    </tr>\n",
       "    <tr>\n",
       "        <td>IS 0320</td>\n",
       "        <td>Spring2017</td>\n",
       "        <td>32646</td>\n",
       "        <td>01</td>\n",
       "        <td>25</td>\n",
       "        <td>7</td>\n",
       "        <td>18</td>\n",
       "        <td>2017</td>\n",
       "    </tr>\n",
       "    <tr>\n",
       "        <td>IS 0399</td>\n",
       "        <td>Spring2017</td>\n",
       "        <td>33077</td>\n",
       "        <td>CH</td>\n",
       "        <td>0</td>\n",
       "        <td>2</td>\n",
       "        <td>-2</td>\n",
       "        <td>2017</td>\n",
       "    </tr>\n",
       "    <tr>\n",
       "        <td>OM 0101</td>\n",
       "        <td>Spring2017</td>\n",
       "        <td>31311</td>\n",
       "        <td>06</td>\n",
       "        <td>29</td>\n",
       "        <td>28</td>\n",
       "        <td>1</td>\n",
       "        <td>2017</td>\n",
       "    </tr>\n",
       "    <tr>\n",
       "        <td>IS 0240</td>\n",
       "        <td>Fall2017</td>\n",
       "        <td>71153</td>\n",
       "        <td>01</td>\n",
       "        <td>25</td>\n",
       "        <td>23</td>\n",
       "        <td>2</td>\n",
       "        <td>2017</td>\n",
       "    </tr>\n",
       "    <tr>\n",
       "        <td>IS 0399</td>\n",
       "        <td>Fall2017</td>\n",
       "        <td>73088</td>\n",
       "        <td>CH</td>\n",
       "        <td>0</td>\n",
       "        <td>1</td>\n",
       "        <td>-1</td>\n",
       "        <td>2017</td>\n",
       "    </tr>\n",
       "    <tr>\n",
       "        <td>IS 0505</td>\n",
       "        <td>Fall2017</td>\n",
       "        <td>72913</td>\n",
       "        <td>01</td>\n",
       "        <td>20</td>\n",
       "        <td>28</td>\n",
       "        <td>-8</td>\n",
       "        <td>2017</td>\n",
       "    </tr>\n",
       "    <tr>\n",
       "        <td>IS 0510</td>\n",
       "        <td>Fall2017</td>\n",
       "        <td>72914</td>\n",
       "        <td>01</td>\n",
       "        <td>20</td>\n",
       "        <td>18</td>\n",
       "        <td>2</td>\n",
       "        <td>2017</td>\n",
       "    </tr>\n",
       "    <tr>\n",
       "        <td>IS 0240</td>\n",
       "        <td>Spring2018</td>\n",
       "        <td>34644</td>\n",
       "        <td>01</td>\n",
       "        <td>25</td>\n",
       "        <td>22</td>\n",
       "        <td>3</td>\n",
       "        <td>2018</td>\n",
       "    </tr>\n",
       "    <tr>\n",
       "        <td>IS 0260</td>\n",
       "        <td>Spring2018</td>\n",
       "        <td>34645</td>\n",
       "        <td>01</td>\n",
       "        <td>25</td>\n",
       "        <td>24</td>\n",
       "        <td>1</td>\n",
       "        <td>2018</td>\n",
       "    </tr>\n",
       "    <tr>\n",
       "        <td>IS 0320</td>\n",
       "        <td>Spring2018</td>\n",
       "        <td>35141</td>\n",
       "        <td>01</td>\n",
       "        <td>25</td>\n",
       "        <td>20</td>\n",
       "        <td>5</td>\n",
       "        <td>2018</td>\n",
       "    </tr>\n",
       "    <tr>\n",
       "        <td>IS 0399</td>\n",
       "        <td>Spring2018</td>\n",
       "        <td>36043</td>\n",
       "        <td>CH</td>\n",
       "        <td>0</td>\n",
       "        <td>1</td>\n",
       "        <td>-1</td>\n",
       "        <td>2018</td>\n",
       "    </tr>\n",
       "    <tr>\n",
       "        <td>BA 0505</td>\n",
       "        <td>Fall2018</td>\n",
       "        <td>75942</td>\n",
       "        <td>01</td>\n",
       "        <td>20</td>\n",
       "        <td>27</td>\n",
       "        <td>-7</td>\n",
       "        <td>2018</td>\n",
       "    </tr>\n",
       "    <tr>\n",
       "        <td>OM 0101</td>\n",
       "        <td>Fall2018</td>\n",
       "        <td>74215</td>\n",
       "        <td>01</td>\n",
       "        <td>25</td>\n",
       "        <td>24</td>\n",
       "        <td>1</td>\n",
       "        <td>2018</td>\n",
       "    </tr>\n",
       "    <tr>\n",
       "        <td>OM 0101</td>\n",
       "        <td>Fall2018</td>\n",
       "        <td>74216</td>\n",
       "        <td>02</td>\n",
       "        <td>25</td>\n",
       "        <td>25</td>\n",
       "        <td>0</td>\n",
       "        <td>2018</td>\n",
       "    </tr>\n",
       "    <tr>\n",
       "        <td>BA 0510</td>\n",
       "        <td>Spring2019</td>\n",
       "        <td>39006</td>\n",
       "        <td>01</td>\n",
       "        <td>32</td>\n",
       "        <td>34</td>\n",
       "        <td>-2</td>\n",
       "        <td>2019</td>\n",
       "    </tr>\n",
       "    <tr>\n",
       "        <td>OM 0101</td>\n",
       "        <td>Spring2019</td>\n",
       "        <td>37200</td>\n",
       "        <td>01</td>\n",
       "        <td>25</td>\n",
       "        <td>26</td>\n",
       "        <td>-1</td>\n",
       "        <td>2019</td>\n",
       "    </tr>\n",
       "    <tr>\n",
       "        <td>OM 0101</td>\n",
       "        <td>Spring2019</td>\n",
       "        <td>37201</td>\n",
       "        <td>02</td>\n",
       "        <td>25</td>\n",
       "        <td>27</td>\n",
       "        <td>-2</td>\n",
       "        <td>2019</td>\n",
       "    </tr>\n",
       "</table>"
      ],
      "text/plain": [
       "[('IS 0100', 'Fall2014', 70369, 'E', 25, 26, -1, '2014'),\n",
       " ('IS 0135', 'Fall2014', 73060, 'A', 25, 26, -1, '2014'),\n",
       " ('IS 0320', 'Fall2014', 73061, 'A', 25, 16, 9, '2014'),\n",
       " ('IS 0100', 'Fall2015', 75231, 'E', 29, 28, 1, '2015'),\n",
       " ('IS 0100', 'Fall2015', 75246, 'F', 29, 28, 1, '2015'),\n",
       " ('IS 0135', 'Fall2015', 76388, 'A', 25, 21, 4, '2015'),\n",
       " ('IS 0320', 'Fall2015', 76389, 'A', 25, 13, 12, '2015'),\n",
       " ('IS 0585', 'Spring2016', 38780, '01', 20, 15, 5, '2016'),\n",
       " ('OM 0101', 'Spring2016', 37253, 'B', 29, 28, 1, '2016'),\n",
       " ('OM 0101', 'Spring2016', 37254, 'C', 29, 29, 0, '2016'),\n",
       " ('IS 0135', 'Fall2016', 78100, '01', 25, 15, 10, '2016'),\n",
       " ('IS 0240', 'Fall2016', 77162, '01', 25, 23, 2, '2016'),\n",
       " ('IS 0585C', 'Fall2016', 79098, '01', 20, 15, 5, '2016'),\n",
       " ('IS 0240', 'Spring2017', 31735, '01', 25, 25, 0, '2017'),\n",
       " ('IS 0320', 'Spring2017', 32646, '01', 25, 7, 18, '2017'),\n",
       " ('IS 0399', 'Spring2017', 33077, 'CH', 0, 2, -2, '2017'),\n",
       " ('OM 0101', 'Spring2017', 31311, '06', 29, 28, 1, '2017'),\n",
       " ('IS 0240', 'Fall2017', 71153, '01', 25, 23, 2, '2017'),\n",
       " ('IS 0399', 'Fall2017', 73088, 'CH', 0, 1, -1, '2017'),\n",
       " ('IS 0505', 'Fall2017', 72913, '01', 20, 28, -8, '2017'),\n",
       " ('IS 0510', 'Fall2017', 72914, '01', 20, 18, 2, '2017'),\n",
       " ('IS 0240', 'Spring2018', 34644, '01', 25, 22, 3, '2018'),\n",
       " ('IS 0260', 'Spring2018', 34645, '01', 25, 24, 1, '2018'),\n",
       " ('IS 0320', 'Spring2018', 35141, '01', 25, 20, 5, '2018'),\n",
       " ('IS 0399', 'Spring2018', 36043, 'CH', 0, 1, -1, '2018'),\n",
       " ('BA 0505', 'Fall2018', 75942, '01', 20, 27, -7, '2018'),\n",
       " ('OM 0101', 'Fall2018', 74215, '01', 25, 24, 1, '2018'),\n",
       " ('OM 0101', 'Fall2018', 74216, '02', 25, 25, 0, '2018'),\n",
       " ('BA 0510', 'Spring2019', 39006, '01', 32, 34, -2, '2019'),\n",
       " ('OM 0101', 'Spring2019', 37200, '01', 25, 26, -1, '2019'),\n",
       " ('OM 0101', 'Spring2019', 37201, '02', 25, 27, -2, '2019')]"
      ]
     },
     "execution_count": 11,
     "metadata": {},
     "output_type": "execute_result"
    }
   ],
   "source": [
    "%%sql \n",
    "SELECT CatalogID,Term,CRN, Section,Capacity,Actual,Remaining,substr(Term,-4) as Year\n",
    "FROM COURSE_OFFERINGS LEFT JOIN INSTRUCTORS ON (COURSE_OFFERINGS.PrimaryInstructorID = INSTRUCTORS.InstructorID)\n",
    "WHERE Name like '%Huntley%'\n",
    "ORDER BY Year,Term DESC,CatalogID,Section;"
   ]
  },
  {
   "cell_type": "code",
   "execution_count": 12,
   "metadata": {},
   "outputs": [
    {
     "name": "stdout",
     "output_type": "stream",
     "text": [
      " * sqlite:///CourseData.db\n",
      "207 rows affected.\n"
     ]
    },
    {
     "data": {
      "text/plain": [
       "[]"
      ]
     },
     "execution_count": 12,
     "metadata": {},
     "output_type": "execute_result"
    }
   ],
   "source": [
    "%%sql \n",
    "INSERT INTO LOCATIONS (LocationCode)\n",
    "SELECT DISTINCT Location \n",
    "FROM import_course_meetings\n",
    "ORDER BY Location"
   ]
  },
  {
   "cell_type": "code",
   "execution_count": 13,
   "metadata": {},
   "outputs": [
    {
     "name": "stdout",
     "output_type": "stream",
     "text": [
      " * sqlite:///CourseData.db\n",
      "311141 rows affected.\n"
     ]
    },
    {
     "data": {
      "text/plain": [
       "[]"
      ]
     },
     "execution_count": 13,
     "metadata": {},
     "output_type": "execute_result"
    }
   ],
   "source": [
    "%%sql\n",
    "INSERT INTO COURSE_MEETINGS (CourseOfferingID,LocationID,StartDateTime,EndDateTime)\n",
    "SELECT DISTINCT COURSE_OFFERINGS.CourseOfferingID, LocationID,`Start`,`End`\n",
    "FROM import_course_meetings \n",
    "    JOIN COURSE_OFFERINGS USING (Term,CRN)\n",
    "    JOIN LOCATIONS ON (import_course_meetings.Location = LOCATIONS.LocationCode);"
   ]
  },
  {
   "cell_type": "code",
   "execution_count": null,
   "metadata": {},
   "outputs": [],
   "source": [
    "%%sql\n",
    "SELECT * FROM COURSE_MEETINGS LIMIT 100;"
   ]
  },
  {
   "cell_type": "code",
   "execution_count": null,
   "metadata": {},
   "outputs": [],
   "source": []
  }
 ],
 "metadata": {
  "kernelspec": {
   "display_name": "Python 3",
   "language": "python",
   "name": "python3"
  },
  "language_info": {
   "codemirror_mode": {
    "name": "ipython",
    "version": 3
   },
   "file_extension": ".py",
   "mimetype": "text/x-python",
   "name": "python",
   "nbconvert_exporter": "python",
   "pygments_lexer": "ipython3",
   "version": "3.6.5"
  }
 },
 "nbformat": 4,
 "nbformat_minor": 2
}
