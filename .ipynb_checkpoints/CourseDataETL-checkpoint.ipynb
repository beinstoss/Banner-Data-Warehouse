{
 "cells": [
  {
   "cell_type": "markdown",
   "metadata": {},
   "source": [
    "## Import modules\n",
    "- To begin, we are importing the Pandas and sql modules which will be used to leverage python in the creation of our database.\n",
    "- The sql magic extension will be used all of our sql specific commands."
   ]
  },
  {
   "cell_type": "code",
   "execution_count": null,
   "metadata": {},
   "outputs": [],
   "source": [
    "%load_ext sql\n",
    "import pandas as pd\n",
    "import sqlite3 as sql"
   ]
  },
  {
   "cell_type": "markdown",
   "metadata": {},
   "source": [
    "## Create database\n",
    "- Here we are creating a database titled 'CourseData.db'.\n",
    "- The 'conn' variable acts as the bridge that allows us to interact with the database while using Python code."
   ]
  },
  {
   "cell_type": "code",
   "execution_count": null,
   "metadata": {},
   "outputs": [],
   "source": [
    "%sql sqlite:///CourseData.db\n",
    "conn = sql.connect('CourseData.db')"
   ]
  },
  {
   "cell_type": "markdown",
   "metadata": {},
   "source": [
    "![Team %%sql Project ERD](CourseDataERD.png)"
   ]
  },
  {
   "cell_type": "markdown",
   "metadata": {},
   "source": [
    "## Create tables matching ERD infrastructure"
   ]
  },
  {
   "cell_type": "code",
   "execution_count": null,
   "metadata": {},
   "outputs": [],
   "source": [
    "%%sql\n",
    "\n",
    "-- Create PROGRAMS table\n",
    "DROP TABLE IF EXISTS PROGRAMS;\n",
    "CREATE TABLE PROGRAMS (\n",
    "    ProgramID INTEGER PRIMARY KEY,\n",
    "    ProgramCode TEXT NOT NULL,\n",
    "    ProgramName TEXT NOT NULL\n",
    ");\n",
    "\n",
    "-- Create CATALOG_COURSES table\n",
    "DROP TABLE IF EXISTS CATALOG_COURSES;\n",
    "CREATE TABLE CATALOG_COURSES (\n",
    "    CourseID INTEGER PRIMARY KEY,\n",
    "    CatalogYear TEXT NOT NULL,\n",
    "    CatalogID TEXT NOT NULL,\n",
    "    ProgramID INTEGER,\n",
    "    CourseTitle TEXT NOT NULL,\n",
    "    Credits TEXT NOT NULL,\n",
    "    Prereqs TEXT,\n",
    "    Coreqs TEXT,\n",
    "    Fees TEXT,\n",
    "    Attributes TEXT,\n",
    "    Description TEXT\n",
    ");\n",
    "CREATE INDEX index_catalog_courses_alt_key on CATALOG_COURSES(CatalogYear,CatalogID);\n",
    "\n",
    "-- Create COURSE_INSTRUCTORS table\n",
    "DROP TABLE IF EXISTS COURSE_INSTRUCTORS;\n",
    "CREATE TABLE COURSE_INSTRUCTORS (\n",
    "    InstructorID INTEGER PRIMARY KEY,\n",
    "    Name TEXT NOT NULL\n",
    ");\n",
    "CREATE INDEX index_course_instructors_alt_key on COURSE_INSTRUCTORS(Name);\n",
    "\n",
    "-- Course COURSE_OFFERINGS table\n",
    "DROP TABLE IF EXISTS COURSE_OFFERINGS;\n",
    "CREATE TABLE COURSE_OFFERINGS (\n",
    "    CourseOfferingID INTEGER PRIMARY KEY,\n",
    "    CourseID INTEGER,\n",
    "    CatalogID TEXT NOT NULL,\n",
    "    Term TEXT NOT NULL,\n",
    "    CRN INTEGER NOT NULL,\n",
    "    Section TEXT NOT NULL,\n",
    "    Credits REAL,\n",
    "    Title TEXT NOT NULL,\n",
    "    Timecodes TEXT,\n",
    "    PrimaryInstructorID INTEGER,\n",
    "    Capacity INTEGER NOT NULL,\n",
    "    Actual INTEGER NOT NULL,\n",
    "    Remaining INTEGER NOT NULL\n",
    ");\n",
    "CREATE INDEX index_course_offerings_alt_key on COURSE_OFFERINGS(Term,CatalogID,Section);\n",
    "\n",
    "-- Create COURSE_LOCATIONS table\n",
    "DROP TABLE IF EXISTS COURSE_LOCATIONS;\n",
    "CREATE TABLE COURSE_LOCATIONS (\n",
    "    LocationID INTEGER PRIMARY KEY,\n",
    "    LocationCode TEXT NOT NULL\n",
    ");\n",
    "\n",
    "\n",
    "-- Create COURSE_MEETINGS table\n",
    "DROP TABLE IF EXISTS COURSE_MEETINGS;\n",
    "CREATE TABLE COURSE_MEETINGS (\n",
    "    CourseMeetingID INTEGER PRIMARY KEY,\n",
    "    CourseOfferingID INTEGER NOT NULL,\n",
    "    LocationID INTEGER NOT NULL,\n",
    "    StartDateTime TEXT NOT NULL,\n",
    "    EndDateTime TEXT NOT NULL\n",
    ");\n",
    "-- Conversion table for con\n",
    "-- Create TERM_TO_CATALOG_YEAR table\n",
    "DROP TABLE IF EXISTS TERM_TO_CATALOG_YEAR;\n",
    "CREATE TABLE TERM_TO_CATALOG_YEAR (\n",
    "    CatalogYear TEXT NOT NULL,\n",
    "    Term TEXT NOT NULL\n",
    ");\n",
    "\n",
    "INSERT INTO TERM_TO_CATALOG_YEAR (Term, CatalogYear) VALUES \n",
    "('Fall2017','2017_2018'),('Winter2018','2017_2018'),('Spring2018','2017_2018'),('Summer2018','2017_2018'),('Fall2018','2018_2019'),\n",
    "('Winter2019','2018_2019'),('Spring2019','2018_2019');"
   ]
  },
  {
   "cell_type": "markdown",
   "metadata": {},
   "source": [
    "## Delete & Drop 'IMPORT' tables"
   ]
  },
  {
   "cell_type": "code",
   "execution_count": null,
   "metadata": {},
   "outputs": [],
   "source": [
    "%%sql\n",
    "DELETE FROM IMPORT_CATALOG_COURSES;\n",
    "DELETE FROM IMPORT_COURSE_OFFERINGS;\n",
    "DELETE FROM IMPORT_COURSE_MEETINGS;\n",
    "DROP TABLE IF EXISTS IMPORT_CATALOG_COURSES;\n",
    "DROP TABLE IF EXISTS IMPORT_COURSE_OFFERINGS;\n",
    "DROP TABLE IF EXISTS IMPORT_COURSE_MEETINGS;"
   ]
  },
  {
   "cell_type": "markdown",
   "metadata": {},
   "source": [
    "## Loop used to populate 'IMPORT' tables"
   ]
  },
  {
   "cell_type": "code",
   "execution_count": null,
   "metadata": {},
   "outputs": [],
   "source": [
    "catalog_years = ['2017_2018', '2018_2019']\n",
    "\n",
    "for catalog_year in catalog_years:\n",
    "    file_path = 'SourceData/Catalogs/CourseCatalog' + catalog_year + '.csv'\n",
    "    df_catalogs = pd.read_csv(file_path)\n",
    "    df_catalogs['cat_year'] = catalog_year # Add column with 'catalog_year' into table\n",
    "    df_catalogs.to_sql('IMPORT_CATALOG_COURSES',conn,if_exists='append',index=False)\n",
    "    \n",
    "semesters = ['Fall2014','Winter2015','Spring2015','Summer2015','Fall2015','Winter2016',\n",
    "             'Spring2016','Summer2016','Fall2016','Winter2017','Spring2017','SpringBreak2017',\n",
    "             'Summer2017','Fall2017','Winter2018','Spring2018','Summer2018','Fall2018',\n",
    "             'Spring2019']\n",
    "\n",
    "for semester in semesters:\n",
    "    file_path = 'SourceData/' + semester + '/courses.csv'\n",
    "    df_course_offerings = pd.read_csv(file_path)\n",
    "    df_course_offerings.to_sql('IMPORT_COURSE_OFFERINGS',conn,if_exists='append',index=False)\n",
    "    \n",
    "    file_path = 'SourceData/' + semester + '/course_meetings.csv'\n",
    "    df_course_meetings = pd.read_csv(file_path)\n",
    "    df_course_meetings.to_sql('IMPORT_COURSE_MEETINGS',conn,if_exists='append',index=False)\n",
    "    "
   ]
  },
  {
   "cell_type": "markdown",
   "metadata": {},
   "source": [
    "## Check for duplicate data"
   ]
  },
  {
   "cell_type": "code",
   "execution_count": null,
   "metadata": {},
   "outputs": [],
   "source": [
    "%%sql\n",
    "-- Check for duplicate values\n",
    "SELECT \n",
    "    (SELECT Count(*) FROM IMPORT_CATALOG_COURSES) as 'Raw Count',\n",
    "    (SELECT Count(*) FROM (SELECT DISTINCT * FROM IMPORT_CATALOG_COURSES)) as 'Distinct Count';"
   ]
  },
  {
   "cell_type": "code",
   "execution_count": null,
   "metadata": {},
   "outputs": [],
   "source": [
    "%%sql\n",
    "-- Check for duplicate values\n",
    "SELECT \n",
    "    (SELECT Count(*) FROM IMPORT_COURSE_OFFERINGS) as 'Raw Count',\n",
    "    (SELECT Count(*) FROM (SELECT DISTINCT * FROM IMPORT_COURSE_OFFERINGS)) as 'Distinct Count';"
   ]
  },
  {
   "cell_type": "code",
   "execution_count": null,
   "metadata": {},
   "outputs": [],
   "source": [
    "%%sql\n",
    "-- Check for duplicate values\n",
    "SELECT \n",
    "    (SELECT Count(*) FROM IMPORT_COURSE_MEETINGS) as 'Raw Count',\n",
    "    (SELECT Count(*) FROM (SELECT DISTINCT * FROM IMPORT_COURSE_MEETINGS)) as 'Distinct Count';"
   ]
  },
  {
   "cell_type": "markdown",
   "metadata": {},
   "source": [
    "## Exact number of duplicate values\n",
    "- The query below subtracts the count of values from the count of distinct values to quantify the number of duplicates within the IMPORT_COURSE_MEETINGS table."
   ]
  },
  {
   "cell_type": "code",
   "execution_count": null,
   "metadata": {},
   "outputs": [],
   "source": [
    "%%sql\n",
    "SELECT COUNT(*) - (SELECT COUNT(*) FROM (SELECT DISTINCT * FROM IMPORT_COURSE_MEETINGS)) AS 'DuplicateValues'\n",
    "FROM IMPORT_COURSE_MEETINGS;"
   ]
  },
  {
   "cell_type": "markdown",
   "metadata": {},
   "source": [
    "## Detailed view of duplicate values\n",
    "\n",
    "- The cell below identifies the duplicate values within IMPORT_COURSE_MEETINGS"
   ]
  },
  {
   "cell_type": "code",
   "execution_count": null,
   "metadata": {},
   "outputs": [],
   "source": [
    "%%sql\n",
    "\n",
    "SELECT term,crn,location,day,start\n",
    "FROM IMPORT_COURSE_MEETINGS\n",
    "GROUP BY term,crn,location,day,start\n",
    "HAVING COUNT(*)>1;"
   ]
  },
  {
   "cell_type": "markdown",
   "metadata": {},
   "source": [
    "## Populate ERD tables with data from 'IMPORT' tables"
   ]
  },
  {
   "cell_type": "code",
   "execution_count": null,
   "metadata": {},
   "outputs": [],
   "source": [
    "%%sql\n",
    "DELETE FROM COURSE_INSTRUCTORS;\n",
    "\n",
    "INSERT INTO COURSE_INSTRUCTORS (Name)\n",
    "SELECT DISTINCT primary_instructor\n",
    "FROM IMPORT_COURSE_OFFERINGS\n",
    "WHERE primary_instructor <> 'TBA' AND primary_instructor NOT LIKE '%/%';"
   ]
  },
  {
   "cell_type": "code",
   "execution_count": null,
   "metadata": {},
   "outputs": [],
   "source": [
    "%%sql\n",
    "DELETE FROM PROGRAMS;\n",
    "\n",
    "INSERT INTO PROGRAMS (ProgramCode,ProgramName)\n",
    "SELECT DISTINCT program_code,program_name \n",
    "FROM IMPORT_CATALOG_COURSES\n",
    "ORDER BY program_code;"
   ]
  },
  {
   "cell_type": "code",
   "execution_count": null,
   "metadata": {},
   "outputs": [],
   "source": [
    "%%sql\n",
    "DELETE FROM CATALOG_COURSES;\n",
    "\n",
    "INSERT INTO CATALOG_COURSES (CatalogYear,ProgramID,CatalogID,CourseTitle,Credits,Prereqs,Coreqs,Fees,Attributes,Description)\n",
    "SELECT DISTINCT cat_year, ProgramID,catalog_id,course_title,credits,prereqs,coreqs,fees,attributes,description\n",
    "FROM IMPORT_CATALOG_COURSES \n",
    "    JOIN PROGRAMS ON (program_code = ProgramCode);"
   ]
  },
  {
   "cell_type": "code",
   "execution_count": null,
   "metadata": {},
   "outputs": [],
   "source": [
    "%%sql\n",
    "DELETE FROM COURSE_OFFERINGS;\n",
    "\n",
    "INSERT INTO COURSE_OFFERINGS (CourseID,Term,CRN,CatalogID,Section,Credits,Title,Timecodes,PrimaryInstructorID,Capacity, Actual, Remaining)\n",
    "SELECT DISTINCT CourseID,term,crn,catalog_id,section,IMPORT_COURSE_OFFERINGS.credits,title,timecodes,InstructorID,cap,act,rem \n",
    "FROM IMPORT_COURSE_OFFERINGS \n",
    "    LEFT JOIN COURSE_INSTRUCTORS ON (primary_instructor=COURSE_INSTRUCTORS.Name)\n",
    "    LEFT JOIN TERM_TO_CATALOG_YEAR USING (Term)\n",
    "    LEFT JOIN CATALOG_COURSES ON (catalog_id = CatalogID AND CATALOG_COURSES.CatalogYear = TERM_TO_CATALOG_YEAR.CatalogYear)\n",
    ";"
   ]
  },
  {
   "cell_type": "code",
   "execution_count": null,
   "metadata": {},
   "outputs": [],
   "source": [
    "%%sql \n",
    "DELETE FROM COURSE_LOCATIONS;\n",
    "\n",
    "INSERT INTO COURSE_LOCATIONS (LocationCode)\n",
    "SELECT DISTINCT Location \n",
    "FROM IMPORT_COURSE_MEETINGS\n",
    "ORDER BY Location"
   ]
  },
  {
   "cell_type": "code",
   "execution_count": null,
   "metadata": {},
   "outputs": [],
   "source": [
    "%%sql\n",
    "DELETE FROM COURSE_MEETINGS;\n",
    "\n",
    "INSERT INTO COURSE_MEETINGS (CourseOfferingID,LocationID,StartDateTime,EndDateTime)\n",
    "SELECT DISTINCT COURSE_OFFERINGS.CourseOfferingID, LocationID,start,end\n",
    "FROM IMPORT_COURSE_MEETINGS \n",
    "    JOIN COURSE_OFFERINGS USING (Term,CRN)\n",
    "    LEFT JOIN COURSE_LOCATIONS ON (IMPORT_COURSE_MEETINGS.Location = COURSE_LOCATIONS.LocationCode);"
   ]
  },
  {
   "cell_type": "markdown",
   "metadata": {},
   "source": [
    "## Clear storage space"
   ]
  },
  {
   "cell_type": "code",
   "execution_count": null,
   "metadata": {},
   "outputs": [],
   "source": [
    "%%sql\n",
    "\n",
    "DELETE FROM IMPORT_CATALOG_COURSES;\n",
    "DELETE FROM IMPORT_COURSE_OFFERINGS;\n",
    "DELETE FROM IMPORT_COURSE_MEETINGS;\n",
    "\n",
    "DROP TABLE IF EXISTS IMPORT_CATALOG_COURSES;\n",
    "DROP TABLE IF EXISTS IMPORT_COURSE_OFFERINGS;\n",
    "DROP TABLE IF EXISTS IMPORT_COURSE_MEETINGS;\n",
    "\n",
    "vacuum;"
   ]
  },
  {
   "cell_type": "markdown",
   "metadata": {},
   "source": [
    "![StarSchemaERD](StarSchemaERD.png)"
   ]
  },
  {
   "cell_type": "markdown",
   "metadata": {},
   "source": [
    "## Create DataWarehouse.db"
   ]
  },
  {
   "cell_type": "code",
   "execution_count": null,
   "metadata": {},
   "outputs": [],
   "source": [
    "%sql sqlite:///CourseDataWarehouse.db\n",
    "conn_dw = sql.connect('CourseDataWarehouse.db')"
   ]
  },
  {
   "cell_type": "code",
   "execution_count": null,
   "metadata": {},
   "outputs": [],
   "source": [
    "%%sql\n",
    "\n",
    "-- Create Fact Table\n",
    "DROP TABLE IF EXISTS FACT_TABLE;\n",
    "CREATE TABLE FACT_TABLE (\n",
    "    ProgramID INTEGER,\n",
    "    CourseID INTEGER NOT NULL,\n",
    "    CourseOfferingID INTEGER NOT NULL,\n",
    "    LocationID INTEGER NOT NULL,\n",
    "    TotalCatalogs TEXT,\n",
    "    TotalInstructors TEXT,\n",
    "    TotalClassrooms TEXT\n",
    ");\n",
    "\n",
    "-- Create CATALOG_DIMENSION table\n",
    "DROP TABLE IF EXISTS CATALOG_DIMENSION;\n",
    "CREATE TABLE CATALOG_DIMENSION (\n",
    "    CourseID INTEGER PRIMARY KEY,\n",
    "    CatalogID TEXT NOT NULL,\n",
    "    ProgramID INTEGER NOT NULL,\n",
    "    ProgramCode TEXT NOT NULL,\n",
    "    ProgramName TEXT NOT NULL,\n",
    "    Credits TEXT NOT NULL,\n",
    "    CourseTitle TEXT NOT NULL,\n",
    "    CatalogYear TEXT NOT NULL,\n",
    "    Prereqs TEXT,\n",
    "    Coreqs TEXT,\n",
    "    Fees TEXT,\n",
    "    Attributes TEXT,\n",
    "    Description TEXT,\n",
    "    Term TEXT   \n",
    ");\n",
    "\n",
    "-- Create LOCATION_DIMENSION table\n",
    "DROP TABLE IF EXISTS LOCATION_DIMENSION;\n",
    "CREATE TABLE LOCATION_DIMENSION (\n",
    "    LocationID INTEGER PRIMARY KEY,\n",
    "    LocationCode TEXT NOT NULL\n",
    ");\n",
    "\n",
    "-- Course TIME_DIMENSION table\n",
    "DROP TABLE IF EXISTS TIME_DIMENSION;\n",
    "CREATE TABLE TIME_DIMENSION (\n",
    "    CourseMeetingID INTEGER PRIMARY KEY,\n",
    "    CourseOfferingID TEXT NOT NULL,\n",
    "    Timecodes TEXT,\n",
    "    StartDateTime TEXT,\n",
    "    EndDateTime TEXT\n",
    ");\n",
    "\n",
    "-- Create COURSE_DIMENSION table\n",
    "DROP TABLE IF EXISTS COURSE_DIMENSION;\n",
    "CREATE TABLE COURSE_DIMENSION (\n",
    "    CourseOfferingID INTEGER PRIMARY KEY,\n",
    "    CRN TEXT NOT NULL,\n",
    "    Section TEXT NOT NULL,\n",
    "    Title TEXT NOT NULL,\n",
    "    Capacity TEXT NOT NULL,\n",
    "    Actual TEXT,\n",
    "    Remaining TEXT\n",
    ");\n",
    "\n",
    "-- Create INSTRUCTOR_DIMENSION table\n",
    "DROP TABLE IF EXISTS INSTRUCTOR_DIMENSION;\n",
    "CREATE TABLE INSTRUCTOR_DIMENSION (\n",
    "    InstructorID INTEGER PRIMARY KEY,\n",
    "    Name TEXT NOT NULL\n",
    ");\n"
   ]
  },
  {
   "cell_type": "markdown",
   "metadata": {},
   "source": [
    "## Query data from CourseData.db to CourseDataWarehouse.db"
   ]
  },
  {
   "cell_type": "code",
   "execution_count": null,
   "metadata": {},
   "outputs": [],
   "source": [
    "CourseDataDB_Query = \"\"\"\n",
    "SELECT DISTINCT *\n",
    "FROM CATALOG_COURSES \n",
    "    JOIN PROGRAMS USING(ProgramID)\n",
    "\"\"\""
   ]
  },
  {
   "cell_type": "code",
   "execution_count": null,
   "metadata": {},
   "outputs": [],
   "source": [
    "%sql DELETE FROM IMPORT_COURSE_DATA_DB;\n",
    "%sql DROP TABLE IF EXISTS IMPORT_COURSE_DATA_DB;\n",
    "CourseDataDB = pd.read_sql(sql=CourseDataDB_Query, con=conn)\n",
    "CourseDataDB.to_sql('IMPORT_COURSE_DATA_DB',conn_dw,if_exists='append',index=False)"
   ]
  },
  {
   "cell_type": "code",
   "execution_count": null,
   "metadata": {},
   "outputs": [],
   "source": [
    "%%sql\n",
    "SELECT *\n",
    "FROM IMPORT_COURSE_DATA_DB\n",
    "LIMIT 1;"
   ]
  },
  {
   "cell_type": "code",
   "execution_count": null,
   "metadata": {},
   "outputs": [],
   "source": [
    "# %%sql\n",
    "# DELETE FROM CATALOG_DIMENSION;\n",
    "# INSERT INTO CATALOG_DIMENSION (CourseID,CataologID,ProgramID,ProgramCode,ProgramName,Credits,CourseTitle,CatalogYear,Fees,Attributes,\n",
    "#                                Description,Prereqs,Coreqs,Term)\n",
    "# SELECT DISTINCT CourseID, ProgramID,catalog_id,course_title,credits,prereqs,coreqs,fees,attributes,description\n",
    "# FROM IMPORT_CATALOG_COURSES \n",
    "#     JOIN PROGRAMS USING(;"
   ]
  },
  {
   "cell_type": "code",
   "execution_count": null,
   "metadata": {},
   "outputs": [],
   "source": []
  }
 ],
 "metadata": {
  "kernelspec": {
   "display_name": "Python 3",
   "language": "python",
   "name": "python3"
  },
  "language_info": {
   "codemirror_mode": {
    "name": "ipython",
    "version": 3
   },
   "file_extension": ".py",
   "mimetype": "text/x-python",
   "name": "python",
   "nbconvert_exporter": "python",
   "pygments_lexer": "ipython3",
   "version": "3.6.7"
  }
 },
 "nbformat": 4,
 "nbformat_minor": 4
}
