{
 "cells": [
  {
   "cell_type": "markdown",
   "metadata": {},
   "source": [
    "## Import modules & set database connection"
   ]
  },
  {
   "cell_type": "code",
   "execution_count": 1,
   "metadata": {},
   "outputs": [],
   "source": [
    "%load_ext sql\n",
    "import pandas as pd\n",
    "import sqlite3 as sql\n",
    "%sql sqlite:///CourseDataWarehouse.db\n",
    "conn_dw = sql.connect('CourseDataWarehouse.db')"
   ]
  },
  {
   "cell_type": "markdown",
   "metadata": {},
   "source": [
    "## Domain Integrity\n",
    "- Only need to check Fact table since the data within the Dimension tables has been checked during the ETL process for CourseData.db.\n",
    "- Fact table does not contain a PK, it contains all of the FKs that reference each Dimension table.\n",
    "- The CourseMeetingID has an applied 'NotNull' constraint due to it being the most used Foreign Key. This way, "
   ]
  },
  {
   "cell_type": "code",
   "execution_count": 14,
   "metadata": {},
   "outputs": [
    {
     "name": "stdout",
     "output_type": "stream",
     "text": [
      " * sqlite:///CourseDataWarehouse.db\n",
      "Done.\n",
      "Done.\n"
     ]
    },
    {
     "data": {
      "text/html": [
       "<table>\n",
       "    <tr>\n",
       "        <th>cid</th>\n",
       "        <th>name</th>\n",
       "        <th>type</th>\n",
       "        <th>notnull</th>\n",
       "        <th>dflt_value</th>\n",
       "        <th>pk</th>\n",
       "    </tr>\n",
       "    <tr>\n",
       "        <td>0</td>\n",
       "        <td>CourseMeetingID</td>\n",
       "        <td>INTEGER</td>\n",
       "        <td>1</td>\n",
       "        <td>None</td>\n",
       "        <td>0</td>\n",
       "    </tr>\n",
       "    <tr>\n",
       "        <td>1</td>\n",
       "        <td>CourseOfferingID</td>\n",
       "        <td>INTEGER</td>\n",
       "        <td>0</td>\n",
       "        <td>None</td>\n",
       "        <td>0</td>\n",
       "    </tr>\n",
       "    <tr>\n",
       "        <td>2</td>\n",
       "        <td>CourseID</td>\n",
       "        <td>INTEGER</td>\n",
       "        <td>0</td>\n",
       "        <td>None</td>\n",
       "        <td>0</td>\n",
       "    </tr>\n",
       "    <tr>\n",
       "        <td>3</td>\n",
       "        <td>LocationID</td>\n",
       "        <td>INTEGER</td>\n",
       "        <td>0</td>\n",
       "        <td>None</td>\n",
       "        <td>0</td>\n",
       "    </tr>\n",
       "    <tr>\n",
       "        <td>4</td>\n",
       "        <td>InstructorID</td>\n",
       "        <td>INTEGER</td>\n",
       "        <td>0</td>\n",
       "        <td>None</td>\n",
       "        <td>0</td>\n",
       "    </tr>\n",
       "    <tr>\n",
       "        <td>5</td>\n",
       "        <td>TotalCatalogs</td>\n",
       "        <td>INTEGER</td>\n",
       "        <td>0</td>\n",
       "        <td>None</td>\n",
       "        <td>0</td>\n",
       "    </tr>\n",
       "    <tr>\n",
       "        <td>6</td>\n",
       "        <td>TotalClassSections</td>\n",
       "        <td>INTEGER</td>\n",
       "        <td>0</td>\n",
       "        <td>None</td>\n",
       "        <td>0</td>\n",
       "    </tr>\n",
       "    <tr>\n",
       "        <td>7</td>\n",
       "        <td>TotalInstructors</td>\n",
       "        <td>INTEGER</td>\n",
       "        <td>0</td>\n",
       "        <td>None</td>\n",
       "        <td>0</td>\n",
       "    </tr>\n",
       "    <tr>\n",
       "        <td>8</td>\n",
       "        <td>TotalClassrooms</td>\n",
       "        <td>INTEGER</td>\n",
       "        <td>0</td>\n",
       "        <td>None</td>\n",
       "        <td>0</td>\n",
       "    </tr>\n",
       "</table>"
      ],
      "text/plain": [
       "[(0, 'CourseMeetingID', 'INTEGER', 1, None, 0),\n",
       " (1, 'CourseOfferingID', 'INTEGER', 0, None, 0),\n",
       " (2, 'CourseID', 'INTEGER', 0, None, 0),\n",
       " (3, 'LocationID', 'INTEGER', 0, None, 0),\n",
       " (4, 'InstructorID', 'INTEGER', 0, None, 0),\n",
       " (5, 'TotalCatalogs', 'INTEGER', 0, None, 0),\n",
       " (6, 'TotalClassSections', 'INTEGER', 0, None, 0),\n",
       " (7, 'TotalInstructors', 'INTEGER', 0, None, 0),\n",
       " (8, 'TotalClassrooms', 'INTEGER', 0, None, 0)]"
      ]
     },
     "execution_count": 14,
     "metadata": {},
     "output_type": "execute_result"
    }
   ],
   "source": [
    "%%sql\n",
    "SELECT * FROM FACT_TABLE;\n",
    "PRAGMA table_info(FACT_TABLE);"
   ]
  },
  {
   "cell_type": "markdown",
   "metadata": {},
   "source": [
    "## Entity Integrity"
   ]
  },
  {
   "cell_type": "code",
   "execution_count": 3,
   "metadata": {},
   "outputs": [
    {
     "name": "stdout",
     "output_type": "stream",
     "text": [
      " * sqlite:///CourseDataWarehouse.db\n",
      "Done.\n"
     ]
    },
    {
     "data": {
      "text/html": [
       "<table>\n",
       "    <tr>\n",
       "        <th>FactTableCount</th>\n",
       "        <th>InstructorDimCount</th>\n",
       "        <th>CourseDimCount</th>\n",
       "        <th>TimeDimCount</th>\n",
       "        <th>LocationDimCount</th>\n",
       "        <th>CatalogDimCount</th>\n",
       "    </tr>\n",
       "    <tr>\n",
       "        <td>284847</td>\n",
       "        <td>1095</td>\n",
       "        <td>15937</td>\n",
       "        <td>284847</td>\n",
       "        <td>207</td>\n",
       "        <td>4440</td>\n",
       "    </tr>\n",
       "</table>"
      ],
      "text/plain": [
       "[(284847, 1095, 15937, 284847, 207, 4440)]"
      ]
     },
     "execution_count": 3,
     "metadata": {},
     "output_type": "execute_result"
    }
   ],
   "source": [
    "%%sql\n",
    "SELECT\n",
    "    (SELECT COUNT(*) FROM FACT_TABLE) as FactTableCount,\n",
    "    (SELECT COUNT(*) FROM INSTRUCTOR_DIMENSION) as InstructorDimCount,\n",
    "    (SELECT COUNT(*) FROM COURSE_DIMENSION) as CourseDimCount,\n",
    "    (SELECT COUNT(*) FROM TIME_DIMENSION) as TimeDimCount,\n",
    "    (SELECT COUNT(*) FROM LOCATION_DIMENSION) as LocationDimCount,\n",
    "    (SELECT COUNT(*) FROM CATALOG_DIMENSION) as CatalogDimCount;\n"
   ]
  },
  {
   "cell_type": "markdown",
   "metadata": {},
   "source": [
    "## Relational Integrity\n",
    "- Check that ensures our tables can all be joined and queried appropriately using PK --> FK pairs.\n",
    "- We use a query that requires every table in our ERD to be joined in order to confirm its relational integrity."
   ]
  },
  {
   "cell_type": "code",
   "execution_count": 13,
   "metadata": {},
   "outputs": [
    {
     "name": "stdout",
     "output_type": "stream",
     "text": [
      " * sqlite:///CourseDataWarehouse.db\n",
      "Done.\n"
     ]
    },
    {
     "data": {
      "text/html": [
       "<table>\n",
       "    <tr>\n",
       "        <th>CourseID</th>\n",
       "        <th>Name</th>\n",
       "        <th>Term</th>\n",
       "        <th>Section</th>\n",
       "        <th>Title</th>\n",
       "        <th>ProgramName</th>\n",
       "        <th>CourseDate</th>\n",
       "        <th>CourseStartTime</th>\n",
       "        <th>CourseEndTime</th>\n",
       "        <th>LocationCode</th>\n",
       "        <th>Year</th>\n",
       "    </tr>\n",
       "    <tr>\n",
       "        <td>922</td>\n",
       "        <td>Christopher L.  Huntley</td>\n",
       "        <td>Fall2017</td>\n",
       "        <td>01</td>\n",
       "        <td>Systems Analysis and Logical Design</td>\n",
       "        <td>Information Systems</td>\n",
       "        <td>2017-09-05</td>\n",
       "        <td>12:30</td>\n",
       "        <td>13:45</td>\n",
       "        <td>DSB 110A</td>\n",
       "        <td>2017</td>\n",
       "    </tr>\n",
       "    <tr>\n",
       "        <td>922</td>\n",
       "        <td>Christopher L.  Huntley</td>\n",
       "        <td>Fall2017</td>\n",
       "        <td>01</td>\n",
       "        <td>Systems Analysis and Logical Design</td>\n",
       "        <td>Information Systems</td>\n",
       "        <td>2017-09-08</td>\n",
       "        <td>12:30</td>\n",
       "        <td>13:45</td>\n",
       "        <td>DSB 110A</td>\n",
       "        <td>2017</td>\n",
       "    </tr>\n",
       "    <tr>\n",
       "        <td>922</td>\n",
       "        <td>Christopher L.  Huntley</td>\n",
       "        <td>Fall2017</td>\n",
       "        <td>01</td>\n",
       "        <td>Systems Analysis and Logical Design</td>\n",
       "        <td>Information Systems</td>\n",
       "        <td>2017-09-12</td>\n",
       "        <td>12:30</td>\n",
       "        <td>13:45</td>\n",
       "        <td>DSB 110A</td>\n",
       "        <td>2017</td>\n",
       "    </tr>\n",
       "    <tr>\n",
       "        <td>922</td>\n",
       "        <td>Christopher L.  Huntley</td>\n",
       "        <td>Fall2017</td>\n",
       "        <td>01</td>\n",
       "        <td>Systems Analysis and Logical Design</td>\n",
       "        <td>Information Systems</td>\n",
       "        <td>2017-09-15</td>\n",
       "        <td>12:30</td>\n",
       "        <td>13:45</td>\n",
       "        <td>DSB 110A</td>\n",
       "        <td>2017</td>\n",
       "    </tr>\n",
       "    <tr>\n",
       "        <td>922</td>\n",
       "        <td>Christopher L.  Huntley</td>\n",
       "        <td>Fall2017</td>\n",
       "        <td>01</td>\n",
       "        <td>Systems Analysis and Logical Design</td>\n",
       "        <td>Information Systems</td>\n",
       "        <td>2017-09-19</td>\n",
       "        <td>12:30</td>\n",
       "        <td>13:45</td>\n",
       "        <td>DSB 110A</td>\n",
       "        <td>2017</td>\n",
       "    </tr>\n",
       "    <tr>\n",
       "        <td>922</td>\n",
       "        <td>Christopher L.  Huntley</td>\n",
       "        <td>Fall2017</td>\n",
       "        <td>01</td>\n",
       "        <td>Systems Analysis and Logical Design</td>\n",
       "        <td>Information Systems</td>\n",
       "        <td>2017-09-22</td>\n",
       "        <td>12:30</td>\n",
       "        <td>13:45</td>\n",
       "        <td>DSB 110A</td>\n",
       "        <td>2017</td>\n",
       "    </tr>\n",
       "    <tr>\n",
       "        <td>922</td>\n",
       "        <td>Christopher L.  Huntley</td>\n",
       "        <td>Fall2017</td>\n",
       "        <td>01</td>\n",
       "        <td>Systems Analysis and Logical Design</td>\n",
       "        <td>Information Systems</td>\n",
       "        <td>2017-09-26</td>\n",
       "        <td>12:30</td>\n",
       "        <td>13:45</td>\n",
       "        <td>DSB 110A</td>\n",
       "        <td>2017</td>\n",
       "    </tr>\n",
       "    <tr>\n",
       "        <td>922</td>\n",
       "        <td>Christopher L.  Huntley</td>\n",
       "        <td>Fall2017</td>\n",
       "        <td>01</td>\n",
       "        <td>Systems Analysis and Logical Design</td>\n",
       "        <td>Information Systems</td>\n",
       "        <td>2017-09-29</td>\n",
       "        <td>12:30</td>\n",
       "        <td>13:45</td>\n",
       "        <td>DSB 110A</td>\n",
       "        <td>2017</td>\n",
       "    </tr>\n",
       "    <tr>\n",
       "        <td>922</td>\n",
       "        <td>Christopher L.  Huntley</td>\n",
       "        <td>Fall2017</td>\n",
       "        <td>01</td>\n",
       "        <td>Systems Analysis and Logical Design</td>\n",
       "        <td>Information Systems</td>\n",
       "        <td>2017-10-03</td>\n",
       "        <td>12:30</td>\n",
       "        <td>13:45</td>\n",
       "        <td>DSB 110A</td>\n",
       "        <td>2017</td>\n",
       "    </tr>\n",
       "    <tr>\n",
       "        <td>922</td>\n",
       "        <td>Christopher L.  Huntley</td>\n",
       "        <td>Fall2017</td>\n",
       "        <td>01</td>\n",
       "        <td>Systems Analysis and Logical Design</td>\n",
       "        <td>Information Systems</td>\n",
       "        <td>2017-10-06</td>\n",
       "        <td>12:30</td>\n",
       "        <td>13:45</td>\n",
       "        <td>DSB 110A</td>\n",
       "        <td>2017</td>\n",
       "    </tr>\n",
       "</table>"
      ],
      "text/plain": [
       "[(922, 'Christopher L.  Huntley', 'Fall2017', '01', 'Systems Analysis and Logical Design', 'Information Systems', '2017-09-05', '12:30', '13:45', 'DSB 110A', '2017'),\n",
       " (922, 'Christopher L.  Huntley', 'Fall2017', '01', 'Systems Analysis and Logical Design', 'Information Systems', '2017-09-08', '12:30', '13:45', 'DSB 110A', '2017'),\n",
       " (922, 'Christopher L.  Huntley', 'Fall2017', '01', 'Systems Analysis and Logical Design', 'Information Systems', '2017-09-12', '12:30', '13:45', 'DSB 110A', '2017'),\n",
       " (922, 'Christopher L.  Huntley', 'Fall2017', '01', 'Systems Analysis and Logical Design', 'Information Systems', '2017-09-15', '12:30', '13:45', 'DSB 110A', '2017'),\n",
       " (922, 'Christopher L.  Huntley', 'Fall2017', '01', 'Systems Analysis and Logical Design', 'Information Systems', '2017-09-19', '12:30', '13:45', 'DSB 110A', '2017'),\n",
       " (922, 'Christopher L.  Huntley', 'Fall2017', '01', 'Systems Analysis and Logical Design', 'Information Systems', '2017-09-22', '12:30', '13:45', 'DSB 110A', '2017'),\n",
       " (922, 'Christopher L.  Huntley', 'Fall2017', '01', 'Systems Analysis and Logical Design', 'Information Systems', '2017-09-26', '12:30', '13:45', 'DSB 110A', '2017'),\n",
       " (922, 'Christopher L.  Huntley', 'Fall2017', '01', 'Systems Analysis and Logical Design', 'Information Systems', '2017-09-29', '12:30', '13:45', 'DSB 110A', '2017'),\n",
       " (922, 'Christopher L.  Huntley', 'Fall2017', '01', 'Systems Analysis and Logical Design', 'Information Systems', '2017-10-03', '12:30', '13:45', 'DSB 110A', '2017'),\n",
       " (922, 'Christopher L.  Huntley', 'Fall2017', '01', 'Systems Analysis and Logical Design', 'Information Systems', '2017-10-06', '12:30', '13:45', 'DSB 110A', '2017')]"
      ]
     },
     "execution_count": 13,
     "metadata": {},
     "output_type": "execute_result"
    }
   ],
   "source": [
    "%%sql\n",
    "SELECT CourseID,Name,Term,Section,Title,ProgramName,CourseDate,CourseStartTime,CourseEndTime,LocationCode,Year\n",
    "FROM TIME_DIMENSION\n",
    "    JOIN FACT_TABLE USING(CourseMeetingID)\n",
    "    JOIN INSTRUCTOR_DIMENSION USING(InstructorID)\n",
    "    JOIN CATALOG_DIMENSION USING(CourseID)\n",
    "    JOIN COURSE_DIMENSION USING(CourseOfferingID)\n",
    "    JOIN LOCATION_DIMENSION USING(LocationID)\n",
    "WHERE Name LIKE '%Huntley'\n",
    "LIMIT 10;"
   ]
  },
  {
   "cell_type": "code",
   "execution_count": null,
   "metadata": {},
   "outputs": [],
   "source": []
  },
  {
   "cell_type": "code",
   "execution_count": null,
   "metadata": {},
   "outputs": [],
   "source": []
  }
 ],
 "metadata": {
  "kernelspec": {
   "display_name": "Python 3",
   "language": "python",
   "name": "python3"
  },
  "language_info": {
   "codemirror_mode": {
    "name": "ipython",
    "version": 3
   },
   "file_extension": ".py",
   "mimetype": "text/x-python",
   "name": "python",
   "nbconvert_exporter": "python",
   "pygments_lexer": "ipython3",
   "version": "3.6.7"
  }
 },
 "nbformat": 4,
 "nbformat_minor": 4
}
