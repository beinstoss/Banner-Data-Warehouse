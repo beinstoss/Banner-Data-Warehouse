{
 "cells": [
  {
   "cell_type": "markdown",
   "metadata": {},
   "source": [
    "## Import modules & set database connection"
   ]
  },
  {
   "cell_type": "code",
   "execution_count": 1,
   "metadata": {},
   "outputs": [],
   "source": [
    "%load_ext sql\n",
    "import pandas as pd\n",
    "import sqlite3 as sql\n",
    "%sql sqlite:///CourseDataWarehouse.db\n",
    "conn_dw = sql.connect('CourseDataWarehouse.db')"
   ]
  },
  {
   "cell_type": "markdown",
   "metadata": {},
   "source": [
    "## Domain Integrity"
   ]
  },
  {
   "cell_type": "code",
   "execution_count": null,
   "metadata": {},
   "outputs": [],
   "source": []
  },
  {
   "cell_type": "markdown",
   "metadata": {},
   "source": [
    "## Entity Integrity"
   ]
  },
  {
   "cell_type": "code",
   "execution_count": 2,
   "metadata": {},
   "outputs": [
    {
     "name": "stdout",
     "output_type": "stream",
     "text": [
      " * sqlite:///CourseDataWarehouse.db\n",
      "Done.\n"
     ]
    },
    {
     "data": {
      "text/html": [
       "<table>\n",
       "    <tr>\n",
       "        <th>FactTableCount</th>\n",
       "        <th>InstructorDimCount</th>\n",
       "        <th>CourseDimCount</th>\n",
       "        <th>TimeDimCount</th>\n",
       "        <th>LyocationDimCount</th>\n",
       "        <th>CatalogDimCount</th>\n",
       "    </tr>\n",
       "    <tr>\n",
       "        <td>284847</td>\n",
       "        <td>1095</td>\n",
       "        <td>15937</td>\n",
       "        <td>284847</td>\n",
       "        <td>207</td>\n",
       "        <td>4440</td>\n",
       "    </tr>\n",
       "</table>"
      ],
      "text/plain": [
       "[(284847, 1095, 15937, 284847, 207, 4440)]"
      ]
     },
     "execution_count": 2,
     "metadata": {},
     "output_type": "execute_result"
    }
   ],
   "source": [
    "%%sql\n",
    "SELECT\n",
    "    (SELECT COUNT(*) FROM FACT_TABLE) as FactTableCount,\n",
    "    (SELECT COUNT(*) FROM INSTRUCTOR_DIMENSION) as InstructorDimCount,\n",
    "    (SELECT COUNT(*) FROM COURSE_DIMENSION) as CourseDimCount,\n",
    "    (SELECT COUNT(*) FROM TIME_DIMENSION) as TimeDimCount,\n",
    "    (SELECT COUNT(*) FROM LOCATION_DIMENSION) as LyocationDimCount,\n",
    "    (SELECT COUNT(*) FROM CATALOG_DIMENSION) as CatalogDimCount;\n"
   ]
  }
 ],
 "metadata": {
  "kernelspec": {
   "display_name": "Python 3",
   "language": "python",
   "name": "python3"
  },
  "language_info": {
   "codemirror_mode": {
    "name": "ipython",
    "version": 3
   },
   "file_extension": ".py",
   "mimetype": "text/x-python",
   "name": "python",
   "nbconvert_exporter": "python",
   "pygments_lexer": "ipython3",
   "version": "3.6.7"
  }
 },
 "nbformat": 4,
 "nbformat_minor": 4
}
