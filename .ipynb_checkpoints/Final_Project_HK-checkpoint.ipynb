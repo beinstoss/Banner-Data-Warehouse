{
 "cells": [
  {
   "cell_type": "code",
   "execution_count": 1,
   "metadata": {},
   "outputs": [],
   "source": [
    "%load_ext sql\n",
    "import pandas as pd\n",
    "import sqlite3 as sql\n",
    "\n",
    "%sql sqlite:///CourseData.db\n",
    "conn = sql.connect('CourseData.db')"
   ]
  },
  {
   "cell_type": "markdown",
   "metadata": {},
   "source": [
    "![Team %%sql Project ERD](CourseDataERD.png)"
   ]
  },
  {
   "cell_type": "code",
   "execution_count": 4,
   "metadata": {},
   "outputs": [
    {
     "name": "stdout",
     "output_type": "stream",
     "text": [
      " * sqlite:///CourseData.db\n",
      "Done.\n",
      "Done.\n",
      "Done.\n",
      "Done.\n",
      "Done.\n",
      "Done.\n",
      "Done.\n",
      "Done.\n",
      "Done.\n",
      "Done.\n",
      "Done.\n",
      "Done.\n",
      "Done.\n",
      "Done.\n",
      "7 rows affected.\n"
     ]
    },
    {
     "data": {
      "text/plain": [
       "[]"
      ]
     },
     "execution_count": 4,
     "metadata": {},
     "output_type": "execute_result"
    }
   ],
   "source": [
    "%%sql\n",
    "\n",
    "-- Create PROGRAMS table\n",
    "DROP TABLE IF EXISTS PROGRAMS;\n",
    "CREATE TABLE PROGRAMS (\n",
    "    ProgramID INTEGER PRIMARY KEY,\n",
    "    ProgramCode TEXT NOT NULL,\n",
    "    ProgramName TEXT NOT NULL\n",
    ");\n",
    "\n",
    "-- Create COURSE_CATALOG table\n",
    "DROP TABLE IF EXISTS COURSE_CATALOG;\n",
    "CREATE TABLE COURSE_CATALOG (\n",
    "    CourseID INTEGER PRIMARY KEY,\n",
    "    CatalogYear TEXT NOT NULL,\n",
    "    CatalogID TEXT NOT NULL,\n",
    "    ProgramID INTEGER,\n",
    "    CourseTitle TEXT NOT NULL,\n",
    "    Credits TEXT NOT NULL,\n",
    "    Prereqs TEXT,\n",
    "    Coreqs TEXT,\n",
    "    Fees TEXT,\n",
    "    Attributes TEXT,\n",
    "    Description TEXT\n",
    ");\n",
    "\n",
    "-- Create COURSE_INSTRUCTORS table\n",
    "DROP TABLE IF EXISTS COURSE_INSTRUCTORS;\n",
    "CREATE TABLE COURSE_INSTRUCTORS (\n",
    "    InstructorID INTEGER PRIMARY KEY,\n",
    "    Name TEXT NOT NULL\n",
    ");\n",
    "\n",
    "-- Course COURSE_OFFERINGS table\n",
    "DROP TABLE IF EXISTS COURSE_OFFERINGS;\n",
    "CREATE TABLE COURSE_OFFERINGS (\n",
    "    CourseOfferingID INTEGER PRIMARY KEY,\n",
    "    CourseID INTEGER,\n",
    "    CatalogID TEXT NOT NULL,\n",
    "    Term TEXT NOT NULL,\n",
    "    CRN INTEGER NOT NULL,\n",
    "    Section TEXT NOT NULL,\n",
    "    Credits REAL,\n",
    "    Title TEXT NOT NULL,\n",
    "    Timecodes TEXT,\n",
    "    PrimaryInstructorID INTEGER,\n",
    "    Capacity INTEGER NOT NULL,\n",
    "    Actual INTEGER NOT NULL,\n",
    "    Remaining INTEGER NOT NULL\n",
    ");\n",
    "\n",
    "-- Create COURSE_LOCATIONS table\n",
    "DROP TABLE IF EXISTS COURSE_LOCATIONS;\n",
    "CREATE TABLE COURSE_LOCATIONS (\n",
    "    LocationID INTEGER PRIMARY KEY,\n",
    "    LocationCode TEXT NOT NULL\n",
    ");\n",
    "\n",
    "-- Create COURSE_MEETINGS table\n",
    "DROP TABLE IF EXISTS COURSE_MEETINGS;\n",
    "CREATE TABLE COURSE_MEETINGS (\n",
    "    CourseMeetingID INTEGER PRIMARY KEY,\n",
    "    CourseOfferingID INTEGER NOT NULL,\n",
    "    LocationID INTEGER NOT NULL,\n",
    "    StartDateTime TEXT NOT NULL,\n",
    "    EndDateTime TEXT NOT NULL\n",
    ");\n",
    "\n",
    "-- Create TERM_TO_CATALOG_YEAR table\n",
    "DROP TABLE IF EXISTS TERM_TO_CATALOG_YEAR;\n",
    "CREATE TABLE TERM_TO_CATALOG_YEAR (\n",
    "    CatalogYear TEXT NOT NULL,\n",
    "    Term TEXT NOT NULL\n",
    ");\n",
    "\n",
    "INSERT INTO TERM_TO_CATALOG_YEAR (Term, CatalogYear) VALUES \n",
    "('Fall2017','2017_2018'),('Winter2018','2017_2018'),('Spring2018','2017_2018'),('Summer2018','2017_2018'),('Fall2018','2018_2019'),\n",
    "('Winter2019','2018_2019'),('Spring2019','2018_2019');"
   ]
  },
  {
   "cell_type": "code",
   "execution_count": null,
   "metadata": {},
   "outputs": [],
   "source": [
    "#Defining path variables\n",
    "src_path = 'SourceData/'\n",
    "course_csv_filename = '/courses.csv'\n",
    "meeting_csv_filename = '/course_meetings.csv'"
   ]
  },
  {
   "cell_type": "code",
   "execution_count": null,
   "metadata": {},
   "outputs": [],
   "source": [
    "# List to loop over catalog csv files\n",
    "df_catalogs_export_data_csv = pd.DataFrame()\n",
    "catalog_years = ['2017_2018', '2018_2019']\n",
    "\n",
    "# Loop to import catalog data into our database.db\n",
    "for catalog_year in catalog_years:\n",
    "    file_path = 'SourceData/Catalogs/CourseCatalog' + catalog_year + '.csv'\n",
    "    df_catalogs = pd.read_csv(file_path)\n",
    "    df_catalogs['cat_year'] = catalog_year # Add column with 'catalog_year'\n",
    "    df_catalogs_export_data_csv = df_catalogs.append(df_catalogs_export_data_csv) # append to a df that will get exported to csv for visual purposes\n",
    "    df_catalogs.to_sql('IMPORT_COURSE_CATALOG',conn,if_exists='append',index=False) # append: Insert new values to the existing table."
   ]
  },
  {
   "cell_type": "code",
   "execution_count": null,
   "metadata": {},
   "outputs": [],
   "source": [
    "#list with semesters to loop path\n",
    "semesters = ['Fall2014','Winter2015','Spring2015','Summer2015','Fall2015','Winter2016',\n",
    "             'Spring2016','Summer2016','Fall2016','Winter2017','Spring2017','SpringBreak2017',\n",
    "             'Summer2017','Fall2017','Winter2018','Spring2018','Summer2018','Fall2018',\n",
    "             'Spring2019'\n",
    "            ]\n",
    "\n",
    "# Loop to import course offerings and course meetings data into database.db\n",
    "for semester in semesters:\n",
    "    file_path = 'SourceData/' + semester + '/courses.csv'\n",
    "    df_course_offerings = pd.read_csv(file_path)\n",
    "    df_course_offerings.to_sql('IMPORT_COURSE_OFFERINGS',conn,if_exists='append',index=False)\n",
    "    \n",
    "    file_path = 'SourceData/' + semester + '/course_meetings.csv'\n",
    "    df_course_meetings = pd.read_csv(file_path)\n",
    "    df_course_meetings.to_sql('IMPORT_COURSE_MEETINGS',conn,if_exists='append',index=False)"
   ]
  },
  {
   "cell_type": "code",
   "execution_count": null,
   "metadata": {},
   "outputs": [],
   "source": [
    "# Export to csv for visual purposes\n",
    "#df_course_offerings.to_csv('Data_Dump_course.csv', index=None)\n",
    "#df_course_meetings.to_csv('Data_Dump_meeting.csv', index=None)\n",
    "#df_catalogs_export_data_csv.to_csv('Data_Dump_catalogs.csv', index=None)\n"
   ]
  },
  {
   "cell_type": "code",
   "execution_count": null,
   "metadata": {},
   "outputs": [],
   "source": []
  }
 ],
 "metadata": {
  "kernelspec": {
   "display_name": "Python 3",
   "language": "python",
   "name": "python3"
  },
  "language_info": {
   "codemirror_mode": {
    "name": "ipython",
    "version": 3
   },
   "file_extension": ".py",
   "mimetype": "text/x-python",
   "name": "python",
   "nbconvert_exporter": "python",
   "pygments_lexer": "ipython3",
   "version": "3.6.7"
  }
 },
 "nbformat": 4,
 "nbformat_minor": 4
}
