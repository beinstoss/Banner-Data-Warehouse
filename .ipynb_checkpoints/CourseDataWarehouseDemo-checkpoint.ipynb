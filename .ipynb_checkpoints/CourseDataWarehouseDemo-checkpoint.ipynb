{
 "cells": [
  {
   "cell_type": "code",
   "execution_count": 4,
   "metadata": {},
   "outputs": [
    {
     "name": "stdout",
     "output_type": "stream",
     "text": [
      "The sql extension is already loaded. To reload it, use:\n",
      "  %reload_ext sql\n"
     ]
    }
   ],
   "source": [
    "%load_ext sql\n",
    "import pandas as pd\n",
    "import sqlite3 as sql"
   ]
  },
  {
   "cell_type": "code",
   "execution_count": 5,
   "metadata": {},
   "outputs": [],
   "source": [
    "%sql sqlite:///CourseDataWarehouse.db\n",
    "conn_dw = sql.connect('CourseDataWarehouse.db')"
   ]
  },
  {
   "cell_type": "code",
   "execution_count": 14,
   "metadata": {},
   "outputs": [
    {
     "name": "stdout",
     "output_type": "stream",
     "text": [
      " * sqlite:///CourseDataWarehouse.db\n",
      "Done.\n"
     ]
    },
    {
     "data": {
      "text/html": [
       "<table>\n",
       "    <tr>\n",
       "        <th>CatalogID</th>\n",
       "        <th>NumSections</th>\n",
       "        <th>CourseTitle</th>\n",
       "        <th>Term</th>\n",
       "        <th>TotalCapacity</th>\n",
       "        <th>TotalActual</th>\n",
       "        <th>TotalRemaining</th>\n",
       "    </tr>\n",
       "    <tr>\n",
       "        <td>EN 0011</td>\n",
       "        <td>1400</td>\n",
       "        <td>Texts and Contexts I: Writing as Craft and Inquiry</td>\n",
       "        <td>Fall2018</td>\n",
       "        <td>22344</td>\n",
       "        <td>25872</td>\n",
       "        <td>-3528</td>\n",
       "    </tr>\n",
       "    <tr>\n",
       "        <td>EN 0012</td>\n",
       "        <td>1353</td>\n",
       "        <td>Texts and Contexts II: Writing About Literature</td>\n",
       "        <td>Spring2018</td>\n",
       "        <td>25707</td>\n",
       "        <td>24185</td>\n",
       "        <td>1522</td>\n",
       "    </tr>\n",
       "    <tr>\n",
       "        <td>EN 0011</td>\n",
       "        <td>1274</td>\n",
       "        <td>Texts and Contexts I: Writing as Craft and Inquiry</td>\n",
       "        <td>Fall2017</td>\n",
       "        <td>22724</td>\n",
       "        <td>23608</td>\n",
       "        <td>-884</td>\n",
       "    </tr>\n",
       "    <tr>\n",
       "        <td>EN 0012</td>\n",
       "        <td>1227</td>\n",
       "        <td>Texts and Contexts II: Writing About Literature</td>\n",
       "        <td>Spring2019</td>\n",
       "        <td>23313</td>\n",
       "        <td>23313</td>\n",
       "        <td>0</td>\n",
       "    </tr>\n",
       "    <tr>\n",
       "        <td>PH 0101</td>\n",
       "        <td>637</td>\n",
       "        <td>Introduction to Philosophy</td>\n",
       "        <td>Fall2017</td>\n",
       "        <td>15925</td>\n",
       "        <td>15366</td>\n",
       "        <td>559</td>\n",
       "    </tr>\n",
       "    <tr>\n",
       "        <td>EC 0011</td>\n",
       "        <td>630</td>\n",
       "        <td>Introduction to Microeconomics</td>\n",
       "        <td>Fall2018</td>\n",
       "        <td>10556</td>\n",
       "        <td>15372</td>\n",
       "        <td>-4816</td>\n",
       "    </tr>\n",
       "    <tr>\n",
       "        <td>HI 0010</td>\n",
       "        <td>611</td>\n",
       "        <td>Origins of the Modern World Since 1500</td>\n",
       "        <td>Fall2017</td>\n",
       "        <td>13975</td>\n",
       "        <td>13533</td>\n",
       "        <td>442</td>\n",
       "    </tr>\n",
       "    <tr>\n",
       "        <td>PH 0101</td>\n",
       "        <td>588</td>\n",
       "        <td>Introduction to Philosophy</td>\n",
       "        <td>Fall2018</td>\n",
       "        <td>14700</td>\n",
       "        <td>14308</td>\n",
       "        <td>392</td>\n",
       "    </tr>\n",
       "    <tr>\n",
       "        <td>MA 0217</td>\n",
       "        <td>567</td>\n",
       "        <td>Accelerated Statistics</td>\n",
       "        <td>Spring2019</td>\n",
       "        <td>15448</td>\n",
       "        <td>14954</td>\n",
       "        <td>494</td>\n",
       "    </tr>\n",
       "    <tr>\n",
       "        <td>MA 0119</td>\n",
       "        <td>560</td>\n",
       "        <td>Applied Calculus I</td>\n",
       "        <td>Fall2018</td>\n",
       "        <td>16800</td>\n",
       "        <td>15414</td>\n",
       "        <td>1386</td>\n",
       "    </tr>\n",
       "</table>"
      ],
      "text/plain": [
       "[('EN 0011', 1400, 'Texts and Contexts I: Writing as Craft and Inquiry', 'Fall2018', 22344, 25872, -3528),\n",
       " ('EN 0012', 1353, 'Texts and Contexts II: Writing About Literature', 'Spring2018', 25707, 24185, 1522),\n",
       " ('EN 0011', 1274, 'Texts and Contexts I: Writing as Craft and Inquiry', 'Fall2017', 22724, 23608, -884),\n",
       " ('EN 0012', 1227, 'Texts and Contexts II: Writing About Literature', 'Spring2019', 23313, 23313, 0),\n",
       " ('PH 0101', 637, 'Introduction to Philosophy', 'Fall2017', 15925, 15366, 559),\n",
       " ('EC 0011', 630, 'Introduction to Microeconomics', 'Fall2018', 10556, 15372, -4816),\n",
       " ('HI 0010', 611, 'Origins of the Modern World Since 1500', 'Fall2017', 13975, 13533, 442),\n",
       " ('PH 0101', 588, 'Introduction to Philosophy', 'Fall2018', 14700, 14308, 392),\n",
       " ('MA 0217', 567, 'Accelerated Statistics', 'Spring2019', 15448, 14954, 494),\n",
       " ('MA 0119', 560, 'Applied Calculus I', 'Fall2018', 16800, 15414, 1386)]"
      ]
     },
     "execution_count": 14,
     "metadata": {},
     "output_type": "execute_result"
    }
   ],
   "source": [
    "%%sql\n",
    "SELECT CatalogID,\n",
    "                COUNT(Section) AS NumSections, \n",
    "                CourseTitle, \n",
    "                Term,\n",
    "                SUM(Capacity) AS TotalCapacity,\n",
    "                SUM(Actual) AS TotalActual,\n",
    "                SUM(Remaining) AS TotalRemaining\n",
    "FROM CATALOG_DIMENSION\n",
    "    LEFT JOIN FACT_TABLE USING(CourseID)\n",
    "    LEFT JOIN TIME_DIMENSION USING(CourseMeetingID)\n",
    "    LEFT JOIN COURSE_DIMENSION USING(CourseOfferingID)\n",
    "GROUP BY CatalogID, Term\n",
    "ORDER BY NumSections DESC\n",
    "LIMIT 10;"
   ]
  },
  {
   "cell_type": "code",
   "execution_count": 31,
   "metadata": {},
   "outputs": [
    {
     "name": "stdout",
     "output_type": "stream",
     "text": [
      " * sqlite:///CourseDataWarehouse.db\n",
      "Done.\n",
      "Done.\n",
      "(sqlite3.OperationalError) near \"(\": syntax error\n",
      "[SQL: SELECT   \n",
      "   NumBusinessCourse/TotalNumCourse*100 AS PctBusinessCourse\n",
      "    (\n",
      "        SELECT COUNT(College)\n",
      "        FROM Colleges\n",
      "        GROUP BY College\n",
      "        HAVING College='Business'\n",
      "    ) AS NumBusinessCourse,\n",
      "    (\n",
      "        SELECT COUNT (*)\n",
      "        FROM Colleges\n",
      "    ) AS TotalNumCourse\n",
      "FROM Colleges;]\n",
      "(Background on this error at: http://sqlalche.me/e/e3q8)\n"
     ]
    }
   ],
   "source": [
    "%%sql\n",
    "DROP VIEW Colleges;\n",
    "CREATE VIEW Colleges AS\n",
    "SELECT CatalogID,\n",
    "        CourseTitle\n",
    "        Section,\n",
    "        Term,\n",
    "        Capacity,\n",
    "        Actual,\n",
    "        CASE \n",
    "            WHEN CatalogID LIKE 'AC%' THEN 'Business'\n",
    "            WHEN CatalogID LIKE 'EC%' THEN 'Business'\n",
    "            WHEN CatalogID LIKE 'FI%' THEN 'Business'\n",
    "            WHEN CatalogID LIKE 'IS%' THEN 'Business'\n",
    "            WHEN CatalogID LIKE 'MG%' THEN 'Business'\n",
    "            WHEN CatalogID LIKE 'MK%' THEN 'Business'\n",
    "            ELSE 'Not Business'\n",
    "            END AS 'College'\n",
    "FROM CATALOG_DIMENSION\n",
    "    LEFT JOIN FACT_TABLE USING(CourseID)\n",
    "    LEFT JOIN TIME_DIMENSION USING(CourseMeetingID)\n",
    "    LEFT JOIN COURSE_DIMENSION USING(CourseOfferingID)\n",
    "WHERE Term = 'Spring2019'\n",
    "GROUP BY CatalogID\n",
    "ORDER BY CatalogID;\n",
    "\n",
    " SELECT   \n",
    "   NumBusinessCourse/TotalNumCourse*100 AS PctBusinessCourse\n",
    "    (\n",
    "        SELECT COUNT(College)\n",
    "        FROM Colleges\n",
    "        GROUP BY College\n",
    "        HAVING College='Business'\n",
    "    ) AS NumBusinessCourse,\n",
    "    (\n",
    "        SELECT COUNT (*)\n",
    "        FROM Colleges\n",
    "    ) AS TotalNumCourse\n",
    "FROM Colleges;\n"
   ]
  },
  {
   "cell_type": "code",
   "execution_count": null,
   "metadata": {},
   "outputs": [],
   "source": []
  }
 ],
 "metadata": {
  "kernelspec": {
   "display_name": "Python 3",
   "language": "python",
   "name": "python3"
  },
  "language_info": {
   "codemirror_mode": {
    "name": "ipython",
    "version": 3
   },
   "file_extension": ".py",
   "mimetype": "text/x-python",
   "name": "python",
   "nbconvert_exporter": "python",
   "pygments_lexer": "ipython3",
   "version": "3.6.7"
  }
 },
 "nbformat": 4,
 "nbformat_minor": 4
}
