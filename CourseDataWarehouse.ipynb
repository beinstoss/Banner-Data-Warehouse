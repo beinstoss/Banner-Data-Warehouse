{
 "cells": [
  {
   "cell_type": "markdown",
   "metadata": {},
   "source": [
    "## Create DataWarehouse.db"
   ]
  },
  {
   "cell_type": "code",
   "execution_count": 11,
   "metadata": {},
   "outputs": [
    {
     "name": "stdout",
     "output_type": "stream",
     "text": [
      "The sql extension is already loaded. To reload it, use:\n",
      "  %reload_ext sql\n"
     ]
    }
   ],
   "source": [
    "%load_ext sql\n",
    "import pandas as pd\n",
    "import sqlite3 as sql"
   ]
  },
  {
   "cell_type": "code",
   "execution_count": 12,
   "metadata": {},
   "outputs": [],
   "source": [
    "%sql sqlite:///CourseDataWarehouse.db\n",
    "conn_dw = sql.connect('CourseDataWarehouse.db')"
   ]
  },
  {
   "cell_type": "code",
   "execution_count": 13,
   "metadata": {},
   "outputs": [
    {
     "name": "stdout",
     "output_type": "stream",
     "text": [
      " * sqlite:///CourseDataWarehouse.db\n",
      "Done.\n",
      "Done.\n",
      "Done.\n",
      "Done.\n",
      "Done.\n",
      "Done.\n",
      "Done.\n",
      "Done.\n",
      "Done.\n",
      "Done.\n",
      "Done.\n",
      "Done.\n"
     ]
    },
    {
     "data": {
      "text/plain": [
       "[]"
      ]
     },
     "execution_count": 13,
     "metadata": {},
     "output_type": "execute_result"
    }
   ],
   "source": [
    "%%sql\n",
    "\n",
    "-- Create Fact Table\n",
    "DROP TABLE IF EXISTS FACT_TABLE;\n",
    "CREATE TABLE FACT_TABLE (\n",
    "    CourseMeetingID INTEGER NOT NULL,\n",
    "    CourseOfferingID INTEGER,\n",
    "    CourseID INTEGER,\n",
    "    LocationID INTEGER,\n",
    "    InstructorID INTEGER, \n",
    "    TotalCatalogs INTEGER,\n",
    "    TotalClassSections INTEGER,\n",
    "    TotalInstructors INTEGER,\n",
    "    TotalClassrooms INTEGER\n",
    ");\n",
    "\n",
    "-- Create CATALOG_DIMENSION table\n",
    "DROP TABLE IF EXISTS CATALOG_DIMENSION;\n",
    "CREATE TABLE CATALOG_DIMENSION (\n",
    "    CourseID INTEGER PRIMARY KEY,\n",
    "    CatalogID TEXT NOT NULL,\n",
    "    ProgramID INTEGER NOT NULL,\n",
    "    ProgramCode TEXT NOT NULL,\n",
    "    ProgramName TEXT NOT NULL,\n",
    "    Credits TEXT NOT NULL,\n",
    "    CourseTitle TEXT NOT NULL,\n",
    "    Fees TEXT,\n",
    "    Attributes TEXT,\n",
    "    Description TEXT,\n",
    "    Prereqs TEXT,\n",
    "    Coreqs TEXT\n",
    ");\n",
    "\n",
    "-- Create LOCATION_DIMENSION table\n",
    "DROP TABLE IF EXISTS LOCATION_DIMENSION;\n",
    "CREATE TABLE LOCATION_DIMENSION (\n",
    "    LocationID INTEGER PRIMARY KEY,\n",
    "    LocationCode TEXT NOT NULL\n",
    ");\n",
    "\n",
    "-- Course TIME_DIMENSION table\n",
    "DROP TABLE IF EXISTS TIME_DIMENSION;\n",
    "CREATE TABLE TIME_DIMENSION (\n",
    "    CourseMeetingID INTEGER PRIMARY KEY,\n",
    "    CourseOfferingID TEXT NOT NULL,\n",
    "    Timecodes TEXT,\n",
    "    CourseStartTime TEXT,\n",
    "    CourseEndTime TEXT,\n",
    "    CourseDate TEXT,\n",
    "    Year TEXT,\n",
    "    Term TEXT,\n",
    "    CatalogYear TEXT\n",
    ");\n",
    "\n",
    "-- Create COURSE_DIMENSION table\n",
    "DROP TABLE IF EXISTS COURSE_DIMENSION;\n",
    "CREATE TABLE COURSE_DIMENSION (\n",
    "    CourseOfferingID INTEGER PRIMARY KEY,\n",
    "    CRN TEXT NOT NULL,\n",
    "    Section TEXT NOT NULL,\n",
    "    Title TEXT NOT NULL,\n",
    "    Capacity TEXT NOT NULL,\n",
    "    Actual TEXT,\n",
    "    Remaining TEXT\n",
    ");\n",
    "\n",
    "-- Create INSTRUCTOR_DIMENSION table\n",
    "DROP TABLE IF EXISTS INSTRUCTOR_DIMENSION;\n",
    "CREATE TABLE INSTRUCTOR_DIMENSION (\n",
    "    InstructorID INTEGER PRIMARY KEY,\n",
    "    Name TEXT NOT NULL\n",
    ");\n"
   ]
  },
  {
   "cell_type": "markdown",
   "metadata": {},
   "source": [
    "## Insert data from CourseData.db to CourseDataWarehouse.db"
   ]
  },
  {
   "cell_type": "markdown",
   "metadata": {},
   "source": [
    "![StarSchemaERD](StarSchemaERD.png)"
   ]
  },
  {
   "cell_type": "code",
   "execution_count": 14,
   "metadata": {},
   "outputs": [
    {
     "name": "stdout",
     "output_type": "stream",
     "text": [
      " * sqlite:///CourseDataWarehouse.db\n",
      "(sqlite3.OperationalError) database orig_db is already in use\n",
      "[SQL: attach database 'CourseData.db' as orig_db]\n",
      "(Background on this error at: http://sqlalche.me/e/e3q8)\n"
     ]
    }
   ],
   "source": [
    "%%sql\n",
    "attach database 'CourseData.db' as orig_db"
   ]
  },
  {
   "cell_type": "code",
   "execution_count": 15,
   "metadata": {},
   "outputs": [
    {
     "name": "stdout",
     "output_type": "stream",
     "text": [
      " * sqlite:///CourseDataWarehouse.db\n",
      "0 rows affected.\n",
      "4440 rows affected.\n"
     ]
    },
    {
     "data": {
      "text/plain": [
       "[]"
      ]
     },
     "execution_count": 15,
     "metadata": {},
     "output_type": "execute_result"
    }
   ],
   "source": [
    "%%sql\n",
    "DELETE FROM CATALOG_DIMENSION;\n",
    "INSERT INTO CATALOG_DIMENSION (CourseID,CatalogID,ProgramID,ProgramCode,ProgramName,Credits,CourseTitle,Fees,Attributes,\n",
    "                               Description,Prereqs,Coreqs)\n",
    "SELECT DISTINCT CourseID,CatalogID,ProgramID,ProgramCode,ProgramName,Credits,CourseTitle,Fees,Attributes,Description,Prereqs,Coreqs\n",
    "FROM orig_db.CATALOG_COURSES\n",
    "    JOIN orig_db.PROGRAMS USING(ProgramID);"
   ]
  },
  {
   "cell_type": "code",
   "execution_count": 16,
   "metadata": {},
   "outputs": [
    {
     "name": "stdout",
     "output_type": "stream",
     "text": [
      " * sqlite:///CourseDataWarehouse.db\n",
      "0 rows affected.\n",
      "207 rows affected.\n"
     ]
    },
    {
     "data": {
      "text/plain": [
       "[]"
      ]
     },
     "execution_count": 16,
     "metadata": {},
     "output_type": "execute_result"
    }
   ],
   "source": [
    "%%sql\n",
    "DELETE FROM LOCATION_DIMENSION;\n",
    "INSERT INTO LOCATION_DIMENSION (LocationID,LocationCode)\n",
    "SELECT DISTINCT LocationID,LocationCode\n",
    "FROM orig_db.COURSE_LOCATIONS;"
   ]
  },
  {
   "cell_type": "code",
   "execution_count": 17,
   "metadata": {},
   "outputs": [
    {
     "name": "stdout",
     "output_type": "stream",
     "text": [
      " * sqlite:///CourseDataWarehouse.db\n",
      "0 rows affected.\n",
      "284847 rows affected.\n"
     ]
    },
    {
     "data": {
      "text/plain": [
       "[]"
      ]
     },
     "execution_count": 17,
     "metadata": {},
     "output_type": "execute_result"
    }
   ],
   "source": [
    "%%sql\n",
    "DELETE FROM TIME_DIMENSION;\n",
    "INSERT INTO TIME_DIMENSION (CourseMeetingID,CourseOfferingID,Timecodes,CourseStartTime,CourseEndTime,CourseDate,Year,Term,CatalogYear)\n",
    "SELECT CourseMeetingID,CourseOfferingID,Timecodes,substr(StartDateTime,17,-5) as CourseStartTime,\n",
    "        substr(EndDateTime,17,-5) as CourseEndTime,substr(StartDateTime,1,10) as CourseDate,\n",
    "        substr(Term,-4) as Year,Term,CatalogYear\n",
    "FROM orig_db.COURSE_OFFERINGS\n",
    "    JOIN orig_db.COURSE_MEETINGS USING(CourseOfferingID)\n",
    "    LEFT JOIN orig_db.TERM_TO_CATALOG_YEAR USING(Term)"
   ]
  },
  {
   "cell_type": "code",
   "execution_count": 18,
   "metadata": {},
   "outputs": [
    {
     "name": "stdout",
     "output_type": "stream",
     "text": [
      " * sqlite:///CourseDataWarehouse.db\n",
      "0 rows affected.\n",
      "15937 rows affected.\n"
     ]
    },
    {
     "data": {
      "text/plain": [
       "[]"
      ]
     },
     "execution_count": 18,
     "metadata": {},
     "output_type": "execute_result"
    }
   ],
   "source": [
    "%%sql\n",
    "DELETE FROM COURSE_DIMENSION;\n",
    "INSERT INTO COURSE_DIMENSION (CourseOfferingID,CRN,Section,Title,Capacity,Actual,Remaining)\n",
    "SELECT CourseOfferingID,CRN,Section,Title,Capacity,Actual,Remaining\n",
    "FROM orig_db.COURSE_OFFERINGS"
   ]
  },
  {
   "cell_type": "code",
   "execution_count": 19,
   "metadata": {},
   "outputs": [
    {
     "name": "stdout",
     "output_type": "stream",
     "text": [
      " * sqlite:///CourseDataWarehouse.db\n",
      "0 rows affected.\n",
      "1095 rows affected.\n"
     ]
    },
    {
     "data": {
      "text/plain": [
       "[]"
      ]
     },
     "execution_count": 19,
     "metadata": {},
     "output_type": "execute_result"
    }
   ],
   "source": [
    "%%sql\n",
    "DELETE FROM INSTRUCTOR_DIMENSION;\n",
    "INSERT INTO INSTRUCTOR_DIMENSION (InstructorID,Name)\n",
    "SELECT InstructorID,Name\n",
    "FROM orig_db.COURSE_INSTRUCTORS"
   ]
  },
  {
   "cell_type": "code",
   "execution_count": 20,
   "metadata": {},
   "outputs": [
    {
     "name": "stdout",
     "output_type": "stream",
     "text": [
      " * sqlite:///CourseDataWarehouse.db\n",
      "0 rows affected.\n",
      "284847 rows affected.\n"
     ]
    },
    {
     "data": {
      "text/plain": [
       "[]"
      ]
     },
     "execution_count": 20,
     "metadata": {},
     "output_type": "execute_result"
    }
   ],
   "source": [
    "%%sql\n",
    "DELETE FROM FACT_TABLE;\n",
    "INSERT INTO FACT_TABLE (CourseMeetingID,CourseOfferingID,CourseID,LocationID,InstructorID,TotalCatalogs,TotalClassSections,TotalInstructors,TotalClassrooms)\n",
    "SELECT CourseMeetingID, COURSE_OFFERINGS.CourseOfferingID, COURSE_OFFERINGS.CourseID, LocationID, InstructorID,\n",
    "                (SELECT COUNT(DISTINCT CatalogID) FROM orig_db.COURSE_OFFERINGS) as TotalCatalogs,\n",
    "                (SELECT COUNT(DISTINCT Section) FROM orig_db.COURSE_OFFERINGS) as TotalClassSections,\n",
    "                (SELECT COUNT(DISTINCT InstructorID) FROM orig_db.COURSE_INSTRUCTORS) as TotalInstructors, \n",
    "                (SELECT COUNT(DISTINCT LocationID) FROM orig_db.COURSE_LOCATIONS) as TotalClassrooms \n",
    "FROM orig_db.COURSE_OFFERINGS\n",
    "    LEFT JOIN orig_db.TERM_TO_CATALOG_YEAR USING(Term)\n",
    "    LEFT JOIN orig_db.CATALOG_COURSES ON (CATALOG_COURSES.CatalogID = COURSE_OFFERINGS.CatalogID AND CATALOG_COURSES.CatalogYear = TERM_TO_CATALOG_YEAR.CatalogYear)\n",
    "    LEFT JOIN orig_db.PROGRAMS USING(ProgramID)\n",
    "    LEFT JOIN orig_db.COURSE_INSTRUCTORS ON (InstructorID = PrimaryInstructorID)\n",
    "    JOIN orig_db.COURSE_MEETINGS USING(CourseOfferingID)\n",
    "    JOIN orig_db.COURSE_LOCATIONS USING(LocationID);\n"
   ]
  },
  {
   "cell_type": "code",
   "execution_count": null,
   "metadata": {},
   "outputs": [],
   "source": []
  },
  {
   "cell_type": "code",
   "execution_count": null,
   "metadata": {},
   "outputs": [],
   "source": []
  }
 ],
 "metadata": {
  "kernelspec": {
   "display_name": "Python 3",
   "language": "python",
   "name": "python3"
  },
  "language_info": {
   "codemirror_mode": {
    "name": "ipython",
    "version": 3
   },
   "file_extension": ".py",
   "mimetype": "text/x-python",
   "name": "python",
   "nbconvert_exporter": "python",
   "pygments_lexer": "ipython3",
   "version": "3.6.7"
  }
 },
 "nbformat": 4,
 "nbformat_minor": 4
}
