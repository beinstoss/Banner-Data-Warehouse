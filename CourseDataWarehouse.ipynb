{
 "cells": [
  {
   "cell_type": "markdown",
   "metadata": {},
   "source": [
    "## Import modules"
   ]
  },
  {
   "cell_type": "code",
   "execution_count": 2,
   "metadata": {},
   "outputs": [],
   "source": [
    "%load_ext sql\n",
    "import pandas as pd\n",
    "import sqlite3 as sql"
   ]
  },
  {
   "cell_type": "markdown",
   "metadata": {},
   "source": [
    "## 1. Create DataWarehouse.db\n"
   ]
  },
  {
   "cell_type": "code",
   "execution_count": 3,
   "metadata": {},
   "outputs": [
    {
     "data": {
      "text/plain": [
       "'Connected: @CourseDataWarehouse.db'"
      ]
     },
     "execution_count": 3,
     "metadata": {},
     "output_type": "execute_result"
    }
   ],
   "source": [
    "%sql sqlite:///CourseDataWarehouse.db"
   ]
  },
  {
   "cell_type": "markdown",
   "metadata": {},
   "source": [
    "<img src=\"StarSchemaERD.png\" alt=\"StarSchemaERD\" width=\"550\"/>"
   ]
  },
  {
   "cell_type": "markdown",
   "metadata": {},
   "source": [
    "## 2. Create DataWarehouse tables\n",
    "\n",
    "- Create tables that match our CourseDataWarehouseERD schema.\n",
    "\n",
    "- Ensure there are no truncation issues (Dropping tables before creating).\n"
   ]
  },
  {
   "cell_type": "code",
   "execution_count": 4,
   "metadata": {},
   "outputs": [
    {
     "name": "stdout",
     "output_type": "stream",
     "text": [
      " * sqlite:///CourseDataWarehouse.db\n",
      "Done.\n",
      "Done.\n",
      "Done.\n",
      "Done.\n",
      "Done.\n",
      "Done.\n",
      "Done.\n",
      "Done.\n",
      "Done.\n",
      "Done.\n",
      "Done.\n",
      "Done.\n"
     ]
    },
    {
     "data": {
      "text/plain": [
       "[]"
      ]
     },
     "execution_count": 4,
     "metadata": {},
     "output_type": "execute_result"
    }
   ],
   "source": [
    "%%sql\n",
    "\n",
    "-- Create Fact Table\n",
    "DROP TABLE IF EXISTS FACT_TABLE;\n",
    "CREATE TABLE FACT_TABLE (\n",
    "    CourseMeetingID INTEGER NOT NULL,\n",
    "    CourseOfferingID INTEGER NOT NULL,\n",
    "    CourseID INTEGER,\n",
    "    LocationID INTEGER NOT NULL,\n",
    "    InstructorID INTEGER, \n",
    "    TotalCatalogs INTEGER,\n",
    "    TotalClassSections INTEGER,\n",
    "    TotalInstructors INTEGER,\n",
    "    TotalClassrooms INTEGER\n",
    ");\n",
    "\n",
    "-- Create CATALOG_DIMENSION table\n",
    "DROP TABLE IF EXISTS CATALOG_DIMENSION;\n",
    "CREATE TABLE CATALOG_DIMENSION (\n",
    "    CourseID INTEGER PRIMARY KEY,\n",
    "    CatalogID TEXT NOT NULL,\n",
    "    ProgramID INTEGER NOT NULL,\n",
    "    ProgramCode TEXT NOT NULL,\n",
    "    ProgramName TEXT NOT NULL,\n",
    "    Credits TEXT NOT NULL,\n",
    "    CourseTitle TEXT NOT NULL,\n",
    "    Fees TEXT,\n",
    "    Attributes TEXT,\n",
    "    Description TEXT,\n",
    "    Prereqs TEXT,\n",
    "    Coreqs TEXT\n",
    ");\n",
    "\n",
    "-- Create LOCATION_DIMENSION table\n",
    "DROP TABLE IF EXISTS LOCATION_DIMENSION;\n",
    "CREATE TABLE LOCATION_DIMENSION (\n",
    "    LocationID INTEGER PRIMARY KEY,\n",
    "    LocationCode TEXT NOT NULL\n",
    ");\n",
    "\n",
    "-- Course TIME_DIMENSION table\n",
    "DROP TABLE IF EXISTS TIME_DIMENSION;\n",
    "CREATE TABLE TIME_DIMENSION (\n",
    "    CourseMeetingID INTEGER PRIMARY KEY,\n",
    "    CourseOfferingID TEXT NOT NULL,\n",
    "    Timecodes TEXT,\n",
    "    CourseStartTime TEXT,\n",
    "    CourseEndTime TEXT,\n",
    "    CourseDate TEXT,\n",
    "    Year TEXT,\n",
    "    Term TEXT,\n",
    "    CatalogYear TEXT\n",
    ");\n",
    "\n",
    "-- Create COURSE_DIMENSION table\n",
    "DROP TABLE IF EXISTS COURSE_DIMENSION;\n",
    "CREATE TABLE COURSE_DIMENSION (\n",
    "    CourseOfferingID INTEGER PRIMARY KEY,\n",
    "    CRN TEXT NOT NULL,\n",
    "    Section TEXT NOT NULL,\n",
    "    Title TEXT NOT NULL,\n",
    "    Capacity TEXT NOT NULL,\n",
    "    Actual TEXT,\n",
    "    Remaining TEXT\n",
    ");\n",
    "\n",
    "-- Create INSTRUCTOR_DIMENSION table\n",
    "DROP TABLE IF EXISTS INSTRUCTOR_DIMENSION;\n",
    "CREATE TABLE INSTRUCTOR_DIMENSION (\n",
    "    InstructorID INTEGER PRIMARY KEY,\n",
    "    Name TEXT NOT NULL\n",
    ");\n"
   ]
  },
  {
   "cell_type": "markdown",
   "metadata": {},
   "source": [
    "## 3. Load data into CourseDataWarehouse.db\n",
    "\n",
    "- We use the 'attach' function to set the variable 'CourseDataDB' which acts as a callable variable of CourseData.db \n",
    "\n",
    "- The dimension tables do not require any data transformation, data is loaded as it is from CourseData.db into its respective dimension.\n"
   ]
  },
  {
   "cell_type": "code",
   "execution_count": 5,
   "metadata": {},
   "outputs": [
    {
     "name": "stdout",
     "output_type": "stream",
     "text": [
      " * sqlite:///CourseDataWarehouse.db\n",
      "Done.\n"
     ]
    },
    {
     "data": {
      "text/plain": [
       "[]"
      ]
     },
     "execution_count": 5,
     "metadata": {},
     "output_type": "execute_result"
    }
   ],
   "source": [
    "%%sql\n",
    "attach database 'CourseData.db' as CourseDataDB"
   ]
  },
  {
   "cell_type": "code",
   "execution_count": 6,
   "metadata": {},
   "outputs": [
    {
     "name": "stdout",
     "output_type": "stream",
     "text": [
      " * sqlite:///CourseDataWarehouse.db\n",
      "0 rows affected.\n",
      "4440 rows affected.\n"
     ]
    },
    {
     "data": {
      "text/plain": [
       "[]"
      ]
     },
     "execution_count": 6,
     "metadata": {},
     "output_type": "execute_result"
    }
   ],
   "source": [
    "%%sql\n",
    "DELETE FROM CATALOG_DIMENSION;\n",
    "INSERT INTO CATALOG_DIMENSION (CourseID,CatalogID,ProgramID,ProgramCode,ProgramName,Credits,CourseTitle,Fees,Attributes,\n",
    "                               Description,Prereqs,Coreqs)\n",
    "SELECT DISTINCT CourseID,CatalogID,ProgramID,ProgramCode,ProgramName,Credits,CourseTitle,Fees,Attributes,Description,Prereqs,Coreqs\n",
    "FROM CourseDataDB.CATALOG_COURSES\n",
    "    JOIN CourseDataDB.PROGRAMS USING(ProgramID);"
   ]
  },
  {
   "cell_type": "code",
   "execution_count": 7,
   "metadata": {},
   "outputs": [
    {
     "name": "stdout",
     "output_type": "stream",
     "text": [
      " * sqlite:///CourseDataWarehouse.db\n",
      "0 rows affected.\n",
      "207 rows affected.\n"
     ]
    },
    {
     "data": {
      "text/plain": [
       "[]"
      ]
     },
     "execution_count": 7,
     "metadata": {},
     "output_type": "execute_result"
    }
   ],
   "source": [
    "%%sql\n",
    "DELETE FROM LOCATION_DIMENSION;\n",
    "INSERT INTO LOCATION_DIMENSION (LocationID,LocationCode)\n",
    "SELECT DISTINCT LocationID,LocationCode\n",
    "FROM CourseDataDB.COURSE_LOCATIONS;"
   ]
  },
  {
   "cell_type": "code",
   "execution_count": 8,
   "metadata": {},
   "outputs": [
    {
     "name": "stdout",
     "output_type": "stream",
     "text": [
      " * sqlite:///CourseDataWarehouse.db\n",
      "0 rows affected.\n",
      "284847 rows affected.\n"
     ]
    },
    {
     "data": {
      "text/plain": [
       "[]"
      ]
     },
     "execution_count": 8,
     "metadata": {},
     "output_type": "execute_result"
    }
   ],
   "source": [
    "%%sql\n",
    "DELETE FROM TIME_DIMENSION;\n",
    "INSERT INTO TIME_DIMENSION (CourseMeetingID,CourseOfferingID,Timecodes,CourseStartTime,CourseEndTime,CourseDate,Year,Term,CatalogYear)\n",
    "SELECT CourseMeetingID,CourseOfferingID,Timecodes,substr(StartDateTime,17,-5) as CourseStartTime,\n",
    "        substr(EndDateTime,17,-5) as CourseEndTime,substr(StartDateTime,1,10) as CourseDate,\n",
    "        substr(Term,-4) as Year,COURSE_OFFERINGS.Term,CatalogYear\n",
    "FROM CourseDataDB.COURSE_OFFERINGS\n",
    "    JOIN CourseDataDB.COURSE_MEETINGS USING(CourseOfferingID)\n",
    "    LEFT JOIN CourseDataDB.TERM_TO_CATALOG_YEAR USING(Term)"
   ]
  },
  {
   "cell_type": "code",
   "execution_count": 9,
   "metadata": {},
   "outputs": [
    {
     "name": "stdout",
     "output_type": "stream",
     "text": [
      " * sqlite:///CourseDataWarehouse.db\n",
      "0 rows affected.\n",
      "15937 rows affected.\n"
     ]
    },
    {
     "data": {
      "text/plain": [
       "[]"
      ]
     },
     "execution_count": 9,
     "metadata": {},
     "output_type": "execute_result"
    }
   ],
   "source": [
    "%%sql\n",
    "DELETE FROM COURSE_DIMENSION;\n",
    "INSERT INTO COURSE_DIMENSION (CourseOfferingID,CRN,Section,Title,Capacity,Actual,Remaining)\n",
    "SELECT CourseOfferingID,CRN,Section,Title,Capacity,Actual,Remaining\n",
    "FROM CourseDataDB.COURSE_OFFERINGS"
   ]
  },
  {
   "cell_type": "code",
   "execution_count": 10,
   "metadata": {},
   "outputs": [
    {
     "name": "stdout",
     "output_type": "stream",
     "text": [
      " * sqlite:///CourseDataWarehouse.db\n",
      "0 rows affected.\n",
      "1095 rows affected.\n"
     ]
    },
    {
     "data": {
      "text/plain": [
       "[]"
      ]
     },
     "execution_count": 10,
     "metadata": {},
     "output_type": "execute_result"
    }
   ],
   "source": [
    "%%sql\n",
    "DELETE FROM INSTRUCTOR_DIMENSION;\n",
    "INSERT INTO INSTRUCTOR_DIMENSION (InstructorID,Name)\n",
    "SELECT InstructorID,Name\n",
    "FROM CourseDataDB.COURSE_INSTRUCTORS"
   ]
  },
  {
   "cell_type": "code",
   "execution_count": 11,
   "metadata": {},
   "outputs": [
    {
     "name": "stdout",
     "output_type": "stream",
     "text": [
      " * sqlite:///CourseDataWarehouse.db\n",
      "0 rows affected.\n",
      "284847 rows affected.\n"
     ]
    },
    {
     "data": {
      "text/plain": [
       "[]"
      ]
     },
     "execution_count": 11,
     "metadata": {},
     "output_type": "execute_result"
    }
   ],
   "source": [
    "%%sql\n",
    "DELETE FROM FACT_TABLE;\n",
    "INSERT INTO FACT_TABLE (CourseMeetingID,CourseOfferingID,CourseID,LocationID,InstructorID,TotalCatalogs,TotalClassSections,TotalInstructors,TotalClassrooms)\n",
    "SELECT COURSE_MEETINGS.CourseMeetingID, COURSE_OFFERINGS.CourseOfferingID, COURSE_OFFERINGS.CourseID, COURSE_MEETINGS.LocationID, InstructorID,\n",
    "                (SELECT COUNT(DISTINCT CatalogID) FROM CourseDataDB.COURSE_OFFERINGS) as TotalCatalogs,\n",
    "                (SELECT COUNT(DISTINCT Section) FROM CourseDataDB.COURSE_OFFERINGS) as TotalClassSections,\n",
    "                (SELECT COUNT(DISTINCT InstructorID) FROM CourseDataDB.COURSE_INSTRUCTORS) as TotalInstructors, \n",
    "                (SELECT COUNT(DISTINCT LocationID) FROM CourseDataDB.COURSE_LOCATIONS) as TotalClassrooms \n",
    "FROM CourseDataDB.COURSE_OFFERINGS\n",
    "    LEFT JOIN CourseDataDB.TERM_TO_CATALOG_YEAR USING(Term)\n",
    "    LEFT JOIN CourseDataDB.CATALOG_COURSES ON (CATALOG_COURSES.CatalogID = COURSE_OFFERINGS.CatalogID AND CATALOG_COURSES.CatalogYear = TERM_TO_CATALOG_YEAR.CatalogYear)\n",
    "    LEFT JOIN CourseDataDB.PROGRAMS USING(ProgramID)\n",
    "    LEFT JOIN CourseDataDB.COURSE_INSTRUCTORS ON (InstructorID = PrimaryInstructorID)\n",
    "    LEFT JOIN CourseDataDB.COURSE_MEETINGS USING(CourseOfferingID)\n",
    "    JOIN CourseDataDB.COURSE_LOCATIONS USING(LocationID);\n"
   ]
  }
 ],
 "metadata": {
  "kernelspec": {
   "display_name": "Python 3",
   "language": "python",
   "name": "python3"
  },
  "language_info": {
   "codemirror_mode": {
    "name": "ipython",
    "version": 3
   },
   "file_extension": ".py",
   "mimetype": "text/x-python",
   "name": "python",
   "nbconvert_exporter": "python",
   "pygments_lexer": "ipython3",
   "version": "3.6.7"
  }
 },
 "nbformat": 4,
 "nbformat_minor": 4
}
